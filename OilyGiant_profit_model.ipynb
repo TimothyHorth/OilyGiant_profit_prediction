{
 "cells": [
  {
   "cell_type": "markdown",
   "metadata": {},
   "source": [
    "<div class=\"alert alert-success\">\n",
    "<b>Reviewer's comment V3</b>\n",
    "\n",
    "Thank you for taking the time to improve the project! Now it is accepted. Keep up the good work on the next sprint!\n",
    "\n",
    "</div>"
   ]
  },
  {
   "cell_type": "markdown",
   "metadata": {},
   "source": [
    "**Review**\n",
    "\n",
    "Hi, my name is Dmitry and I will be reviewing your project.\n",
    "  \n",
    "You can find my comments in colored markdown cells:\n",
    "  \n",
    "<div class=\"alert alert-success\">\n",
    "  If everything is done successfully.\n",
    "</div>\n",
    "  \n",
    "<div class=\"alert alert-warning\">\n",
    "  If I have some (optional) suggestions, or questions to think about, or general comments.\n",
    "</div>\n",
    "  \n",
    "<div class=\"alert alert-danger\">\n",
    "  If a section requires some corrections. Work can't be accepted with red comments.\n",
    "</div>\n",
    "  \n",
    "Please don't remove my comments, as it will make further review iterations much harder for me.\n",
    "  \n",
    "Feel free to reply to my comments or ask questions using the following template:\n",
    "  \n",
    "<div class=\"alert alert-info\">\n",
    "  For your comments and questions.\n",
    "</div>\n",
    "  \n",
    "First of all, thank you for turning in the project! You did a pretty good job overall, but there are a couple of small problems that need to be fixed before the project is accepted. Let me know if you have any questions!"
   ]
  },
  {
   "cell_type": "markdown",
   "metadata": {},
   "source": [
    "# Predicting Best Well Location\n",
    "\n",
    "The OilyGiant Mining Company is in the market to build a new well. They have data on oil reserves in three particular regions, and want to know which location has the highest liklihood of producing the most oil, and therefore the most profit. It has been requested that a Linear Regression model be created to assist in predicting the most porfitable region for the new well. \n",
    "\n",
    "Three models will be trained, one for each region (dataset). Once trained, the model will be used to predict oil reserve volumes for a validation dataset. The validation dataset will be used to calculate potential profit based on the largest 200 oil reserves. Once that starting point has been interpreted and analyzed, an average profit distribution will be collected for each region. The average profit, 95% confidence interval, and risk of loss will be calculated for each region and displayed. From those calcualted values, we will determine the best and most profitable location for OilyGiant to build their new well."
   ]
  },
  {
   "cell_type": "markdown",
   "metadata": {},
   "source": [
    "## Initialization\n",
    "\n",
    "In this seciton the necessary libraries will be imported, the data will be read into a DataFrame, and a summary of the data will be quickly explored."
   ]
  },
  {
   "cell_type": "markdown",
   "metadata": {},
   "source": [
    "### Load libraries\n",
    "\n",
    "All the important libraries that are utilized throughout this report are imported in the cell block below."
   ]
  },
  {
   "cell_type": "code",
   "execution_count": 1,
   "metadata": {},
   "outputs": [],
   "source": [
    "# Import the necessary libraries\n",
    "\n",
    "import pandas as pd\n",
    "import numpy as np\n",
    "from sklearn.linear_model import LinearRegression\n",
    "from sklearn.model_selection import train_test_split\n",
    "from sklearn.metrics import mean_squared_error\n",
    "\n",
    "# Import library for formatting currency\n",
    "import locale\n",
    "\n",
    "# Hide warning messages\n",
    "import warnings\n",
    "warnings.filterwarnings('ignore')"
   ]
  },
  {
   "cell_type": "markdown",
   "metadata": {},
   "source": [
    "## Load data\n",
    "\n",
    "Below, the csv files `geo_data_0.csv`, `geo_data_1.csv`, `geo_data_2.csv` will be read and stored into DataFrames."
   ]
  },
  {
   "cell_type": "code",
   "execution_count": 2,
   "metadata": {},
   "outputs": [],
   "source": [
    "# Read and store the csv files into DataFrames\n",
    "\n",
    "df_0 = pd.read_csv('/datasets/geo_data_0.csv')\n",
    "df_1 = pd.read_csv('/datasets/geo_data_1.csv')\n",
    "df_2 = pd.read_csv('/datasets/geo_data_2.csv')"
   ]
  },
  {
   "cell_type": "markdown",
   "metadata": {},
   "source": [
    "### Explore the data\n",
    "\n",
    "Let's take a look at the data stored in each of the three DataFrames. The first 15 rows of each DataFrame will be printed, followed by a summary and general info of each DataFrame."
   ]
  },
  {
   "cell_type": "code",
   "execution_count": 3,
   "metadata": {},
   "outputs": [
    {
     "name": "stdout",
     "output_type": "stream",
     "text": [
      "df_0:\n",
      "       id        f0        f1        f2     product\n",
      "0   txEyH  0.705745 -0.497823  1.221170  105.280062\n",
      "1   2acmU  1.334711 -0.340164  4.365080   73.037750\n",
      "2   409Wp  1.022732  0.151990  1.419926   85.265647\n",
      "3   iJLyR -0.032172  0.139033  2.978566  168.620776\n",
      "4   Xdl7t  1.988431  0.155413  4.751769  154.036647\n",
      "5   wX4Hy  0.969570  0.489775 -0.735383   64.741541\n",
      "6   tL6pL  0.645075  0.530656  1.780266   49.055285\n",
      "7   BYPU6 -0.400648  0.808337 -5.624670   72.943292\n",
      "8   j9Oui  0.643105 -0.551583  2.372141  113.356160\n",
      "9   OLuZU  2.173381  0.563698  9.441852  127.910945\n",
      "10  b8WQ6  0.371066 -0.036585  0.009208   70.326617\n",
      "11  1YYm1  0.015920  1.062729 -0.722248   45.110381\n",
      "12  zIYPq -0.276476  0.924865  0.095584   89.158678\n",
      "13  iqTqq  0.212696 -0.111147  5.770095  164.298520\n",
      "14  Ct5yY -0.018578  0.187516  2.944683  158.633720\n",
      "\n",
      "df_1:\n",
      "       id         f0         f1        f2     product\n",
      "0   kBEdx -15.001348  -8.276000 -0.005876    3.179103\n",
      "1   62mP7  14.272088  -3.475083  0.999183   26.953261\n",
      "2   vyE1P   6.263187  -5.948386  5.001160  134.766305\n",
      "3   KcrkZ -13.081196 -11.506057  4.999415  137.945408\n",
      "4   AHL4O  12.702195  -8.147433  5.004363  134.766305\n",
      "5   HHckp  -3.327590  -2.205276  3.003647   84.038886\n",
      "6   h5Ujo -11.142655 -10.133399  4.002382  110.992147\n",
      "7   muH9x   4.234715  -0.001354  2.004588   53.906522\n",
      "8   YiRkx  13.355129  -0.332068  4.998647  134.766305\n",
      "9   jG6Gi   1.069227 -11.025667  4.997844  137.945408\n",
      "10  7uHUe  11.777049  -5.334084  2.003033   53.906522\n",
      "11  OXyvW  16.320755  -0.562946 -0.001783    0.000000\n",
      "12  cB8re   7.736313  -6.093374  3.982531  107.813044\n",
      "13  igmai   6.695604  -0.749449 -0.007630    0.000000\n",
      "14  3OdkE -10.985487  -5.605994  2.991130   84.038886\n",
      "\n",
      "df_2:\n",
      "       id        f0        f1        f2     product\n",
      "0   fwXo0 -1.146987  0.963328 -0.828965   27.758673\n",
      "1   WJtFt  0.262778  0.269839 -2.530187   56.069697\n",
      "2   ovLUW  0.194587  0.289035 -5.586433   62.871910\n",
      "3   q6cA6  2.236060 -0.553760  0.930038  114.572842\n",
      "4   WPMUX -0.515993  1.716266  5.899011  149.600746\n",
      "5   LzZXx -0.758092  0.710691  2.585887   90.222465\n",
      "6   WBHRv -0.574891  0.317727  1.773745   45.641478\n",
      "7   XO8fn -1.906649 -2.458350 -0.177097   72.480640\n",
      "8   ybmQ5  1.776292 -0.279356  3.004156  106.616832\n",
      "9   OilcN -1.214452 -0.439314  5.922514   52.954532\n",
      "10  myq2g  0.628659 -2.120049  5.362437  166.799132\n",
      "11  V9R1y -0.544565  0.039088  8.635293  150.859435\n",
      "12  bKDo0 -0.960453 -0.127113  7.764734   96.910855\n",
      "13  eXvhs  1.432891 -1.242074  3.557168    8.704162\n",
      "14  wI4j3 -0.935464  2.420523  1.150536  116.829811\n",
      "\n"
     ]
    }
   ],
   "source": [
    "datasets = [df_0, df_1, df_2]\n",
    "\n",
    "for i in range(len(datasets)):\n",
    "    print('df_' + str(i) + ':')\n",
    "    print(datasets[i].head(15))\n",
    "    print()"
   ]
  },
  {
   "cell_type": "code",
   "execution_count": 4,
   "metadata": {},
   "outputs": [
    {
     "name": "stdout",
     "output_type": "stream",
     "text": [
      "df_0:\n",
      "<class 'pandas.core.frame.DataFrame'>\n",
      "RangeIndex: 100000 entries, 0 to 99999\n",
      "Data columns (total 5 columns):\n",
      " #   Column   Non-Null Count   Dtype  \n",
      "---  ------   --------------   -----  \n",
      " 0   id       100000 non-null  object \n",
      " 1   f0       100000 non-null  float64\n",
      " 2   f1       100000 non-null  float64\n",
      " 3   f2       100000 non-null  float64\n",
      " 4   product  100000 non-null  float64\n",
      "dtypes: float64(4), object(1)\n",
      "memory usage: 3.8+ MB\n",
      "None\n",
      "\n",
      "df_1:\n",
      "<class 'pandas.core.frame.DataFrame'>\n",
      "RangeIndex: 100000 entries, 0 to 99999\n",
      "Data columns (total 5 columns):\n",
      " #   Column   Non-Null Count   Dtype  \n",
      "---  ------   --------------   -----  \n",
      " 0   id       100000 non-null  object \n",
      " 1   f0       100000 non-null  float64\n",
      " 2   f1       100000 non-null  float64\n",
      " 3   f2       100000 non-null  float64\n",
      " 4   product  100000 non-null  float64\n",
      "dtypes: float64(4), object(1)\n",
      "memory usage: 3.8+ MB\n",
      "None\n",
      "\n",
      "df_2:\n",
      "<class 'pandas.core.frame.DataFrame'>\n",
      "RangeIndex: 100000 entries, 0 to 99999\n",
      "Data columns (total 5 columns):\n",
      " #   Column   Non-Null Count   Dtype  \n",
      "---  ------   --------------   -----  \n",
      " 0   id       100000 non-null  object \n",
      " 1   f0       100000 non-null  float64\n",
      " 2   f1       100000 non-null  float64\n",
      " 3   f2       100000 non-null  float64\n",
      " 4   product  100000 non-null  float64\n",
      "dtypes: float64(4), object(1)\n",
      "memory usage: 3.8+ MB\n",
      "None\n",
      "\n"
     ]
    }
   ],
   "source": [
    "datasets = [df_0, df_1, df_2]\n",
    "\n",
    "for i in range(len(datasets)):\n",
    "    print('df_' + str(i) + ':')\n",
    "    print(datasets[i].info())\n",
    "    print()"
   ]
  },
  {
   "cell_type": "markdown",
   "metadata": {},
   "source": [
    "After reviewing the previews and summaries of the datasets, it does not look like any preprocessing needs to be performed. There are no missing values, and the datatypes for each column appear to be correct. We will move forward without making any changed to the data.\n",
    "\n",
    "It is important to note that the column names are not very descriptive at all. However, the OilyGiant Mining Company explained that the features were already processed for model training, and their exact meaning is unimportant for this task."
   ]
  },
  {
   "cell_type": "markdown",
   "metadata": {},
   "source": [
    "## Feature Preparation\n",
    "\n",
    "It should be noted that the `'id'` column in each of the three datasets contains a unique identification string for each oil reserve. Being that the values in the `'id'` column are strings, it cannot be passed to a Linear Regression model. Therefore, before we move onto training models, it is best to drop the `'id'` column from each of the three datasets. The below cell block will drop the `'id'` column from each of the three columns."
   ]
  },
  {
   "cell_type": "code",
   "execution_count": 5,
   "metadata": {},
   "outputs": [],
   "source": [
    "df_0 = df_0.drop('id', axis=1)\n",
    "df_1 = df_1.drop('id', axis=1)\n",
    "df_2 = df_2.drop('id', axis=1)"
   ]
  },
  {
   "cell_type": "markdown",
   "metadata": {},
   "source": [
    "## Modeling"
   ]
  },
  {
   "cell_type": "markdown",
   "metadata": {},
   "source": [
    "Now that each dataset only contains numeric values, let's move onto splitting the data. Each dataset will be split into a training dataset and a validation dataset. The ratio for each training dataset to validation dataset will be **3:1**. This means that the training dataset for each region will contain **75%** of the overall data, and the validation dataset will contain **25%** of the overall data. The cell block below will split the data up as described, using the `train_test_split` function from the `sklearn.model_selection` module."
   ]
  },
  {
   "cell_type": "code",
   "execution_count": 6,
   "metadata": {},
   "outputs": [],
   "source": [
    "# Create the training, validation, and testing datasets\n",
    "# The datasets will be split 75% and 25% for a ratio of 3:1 between the training and validation datasets\n",
    "\n",
    "# Initializing DataFrame features for each region\n",
    "df_0_features = df_0.drop('product', axis=1)\n",
    "df_1_features = df_1.drop('product', axis=1)\n",
    "df_2_features = df_2.drop('product', axis=1)\n",
    "\n",
    "# Initializing DataFrame targets for each region\n",
    "df_0_target = df_0['product']\n",
    "df_1_target = df_1['product']\n",
    "df_2_target = df_2['product']\n",
    "\n",
    "# Split the feature and target datasets for each DataFrame into training and validation datasets\n",
    "# The test_size will be 0.25 so that the validation dataset contains 25% of the data\n",
    "# and the training dataset contains 75% of the data\n",
    "features_train_0, features_valid_0, target_train_0, target_valid_0 = train_test_split(df_0_features, df_0_target, test_size=0.25)\n",
    "features_train_1, features_valid_1, target_train_1, target_valid_1 = train_test_split(df_1_features, df_1_target, test_size=0.25)\n",
    "features_train_2, features_valid_2, target_train_2, target_valid_2 = train_test_split(df_2_features, df_2_target, test_size=0.25)"
   ]
  },
  {
   "cell_type": "markdown",
   "metadata": {},
   "source": [
    "### Training logistic regression models\n",
    "\n",
    "Now that the training and validation datasets have been split for each regional dataset, it's finally time to train the models! Again, one model will be trained for each regional dataset. The model of choice will a Linear Regression model since we are trying to predict/calculate a precise number in a continuous range. Since the possibilities are vastly more numerous than just **0** or **1**, this is not a binary classification task, so Logistic Regression is not an accurate choice model for this application. The below cells will initialize a Linear Regression model, fit the model, predict target values for the validation dataset, and then output the average volume of predicted oil reserves and the Root Mean Square Error."
   ]
  },
  {
   "cell_type": "markdown",
   "metadata": {},
   "source": [
    "#### Region 0 dataset"
   ]
  },
  {
   "cell_type": "code",
   "execution_count": 7,
   "metadata": {},
   "outputs": [
    {
     "name": "stdout",
     "output_type": "stream",
     "text": [
      "Average volume of predicted reserves: 92.607 thousand barrels\n",
      "RMSE of the linear regression model on the validation set: 37.594\n"
     ]
    }
   ],
   "source": [
    "# Create an instance of a LogisticRegression model\n",
    "model = LinearRegression()\n",
    "\n",
    "# Fit the model using the training data\n",
    "model.fit(features_train_0, target_train_0)\n",
    "\n",
    "# Predict the target values of the validation features\n",
    "predicted_valid_0 = model.predict(features_valid_0)\n",
    "\n",
    "# Calculate and print the average volumne of predicted reserves and model RMSE\n",
    "result = mean_squared_error(target_valid_0, predicted_valid_0)**0.5\n",
    "print(f'Average volume of predicted reserves: {round(predicted_valid_0.mean(),3)} thousand barrels')\n",
    "print(\"RMSE of the linear regression model on the validation set:\", round(result,3))"
   ]
  },
  {
   "cell_type": "markdown",
   "metadata": {},
   "source": [
    "The average volume of predicted oil reserves is approximately **92** thousand barrels. The Root Mean Square Error of the Linear Regression model is approxiamtely **37**. This means that the predicted values have a standard deviations of up to **37** thousand barrels. An RMSE value of **37** is kind of high, and provides for a large range of reserve volumes."
   ]
  },
  {
   "cell_type": "markdown",
   "metadata": {},
   "source": [
    "#### Region 1 dataset"
   ]
  },
  {
   "cell_type": "code",
   "execution_count": 8,
   "metadata": {},
   "outputs": [
    {
     "name": "stdout",
     "output_type": "stream",
     "text": [
      "Average volume of predicted reserves: 69.143 thousand barrels\n",
      "RMSE of the linear regression model on the validation set: 0.89\n"
     ]
    }
   ],
   "source": [
    "# Create an instance of a LogisticRegression model\n",
    "model = LinearRegression()\n",
    "\n",
    "# Fit the model using the training data\n",
    "model.fit(features_train_1, target_train_1)\n",
    "\n",
    "# Predict the target values of the validation features\n",
    "predicted_valid_1 = model.predict(features_valid_1)\n",
    "\n",
    "# Calculate and print the average volumne of predicted reserves and model RMSE\n",
    "result = mean_squared_error(target_valid_1, predicted_valid_1)**0.5\n",
    "print(f'Average volume of predicted reserves: {round(predicted_valid_1.mean(),3)} thousand barrels')\n",
    "print(\"RMSE of the linear regression model on the validation set:\", round(result,3))"
   ]
  },
  {
   "cell_type": "markdown",
   "metadata": {},
   "source": [
    "The average volume of predicted oil reserves is approximately **68** thousand barrels. The Root Mean Square Error of the Linear Regression model is approxiamtely **0.8**. This means that the predicted values have a standard deviations of up to **0.9** thousand barrels. That RMSE value is incredibly small! The variation in oil reserve volumes is very tiny, so a vast majority of the oil reserve volumes will be close to the **68** average."
   ]
  },
  {
   "cell_type": "markdown",
   "metadata": {},
   "source": [
    "#### Region 2 dataset"
   ]
  },
  {
   "cell_type": "code",
   "execution_count": 9,
   "metadata": {},
   "outputs": [
    {
     "name": "stdout",
     "output_type": "stream",
     "text": [
      "Average volume of predicted reserves: 94.888 thousand barrels\n",
      "RMSE of the linear regression model on the validation set: 39.865\n"
     ]
    }
   ],
   "source": [
    "# Create an instance of a LogisticRegression model\n",
    "model = LinearRegression()\n",
    "\n",
    "# Fit the model using the training data\n",
    "model.fit(features_train_2, target_train_2)\n",
    "\n",
    "# Predict the target values of the validation features\n",
    "predicted_valid_2 = model.predict(features_valid_2)\n",
    "\n",
    "# Calculate and print the average volumne of predicted reserves and model RMSE\n",
    "result = mean_squared_error(target_valid_2, predicted_valid_2)**0.5\n",
    "print(f'Average volume of predicted reserves: {round(predicted_valid_2.mean(),3)} thousand barrels')\n",
    "print(\"RMSE of the linear regression model on the validation set:\", round(result,3))"
   ]
  },
  {
   "cell_type": "markdown",
   "metadata": {},
   "source": [
    "The average volume of predicted oil reserves is approximately **94** thousand barrels. The Root Mean Square Error of the Linear Regression model is approxiamtely **40**. This means that the predicted values have a standard deviations of up to **40** thousand barrels. This is a pretty high RMSE value. In fact, it's the highest RMSE value out of all three. The predicted oil reserve volumes could differ quite largerly from the **94** average."
   ]
  },
  {
   "cell_type": "markdown",
   "metadata": {},
   "source": [
    "### Summary\n",
    "\n",
    "Both Region 0 and Region 2 have a large RSME value, especially when compared with Region 1. This means that Region 0 and Region 2 have a wide range of oil reserve volumes, while Region 1 has rather predictable oil reserve volumes. It should also be noted that Region 0 and Region 2 have an average oil reserve volume that is approximately **1.5** times greater than the average oil reserve volume of Region 1. It will be interesting to see how each region plays out in the profit analysis since Region 0 and Region 2 could potentially provide much greater depending on how their oil reserve volumes skew. However, Region 1 has much higher chance of providing a profit that is within a much more precise range."
   ]
  },
  {
   "cell_type": "markdown",
   "metadata": {},
   "source": [
    "## Profit calculation\n",
    "\n",
    "### Determine the minimum oil production required to break-even\n",
    "\n",
    "To begin analzing the potential profit that can be made from each region, let's first determine how many thousands of barrles of oil are required to ensure that the OilyGiant Mining Company is not building/operating at a loss. The below cell block will calculate the number of units, or thousands barrels, that the oil reserve volume must provide in order for OilyGiant to produce a profit. This calculation is done by dividing OilyGiant's overall budget (**100,000,000 USD**) for building **200** oil wells with the revenue brought in by one unit (**4,500 USD**) of oil."
   ]
  },
  {
   "cell_type": "code",
   "execution_count": 10,
   "metadata": {},
   "outputs": [
    {
     "name": "stdout",
     "output_type": "stream",
     "text": [
      "A total of 22222.22 thousand barrels are required to avoid building/operating without losses.\n",
      "Requires approximately 111.11 thousand barrels per reserve.\n"
     ]
    }
   ],
   "source": [
    "# Initialize constant variables\n",
    "# The revenue from one unit is 4,500 USD (one-thousand barrels)\n",
    "# The budget for development of 200 oil wells is $100,000,000\n",
    "# The revenue from 200 oil wells needs to exceed $100,000,000\n",
    "budget = 100_000_000\n",
    "unit_revenue = 4_500\n",
    "\n",
    "# Volume of reserves required to develop a new well without losses:\n",
    "sufficient_volume = budget/unit_revenue\n",
    "\n",
    "# Print the results\n",
    "print(f'A total of {round(sufficient_volume,2)} thousand barrels are required to avoid building/operating without losses.')\n",
    "print(f'Requires approximately {round((sufficient_volume / 200), 2)} thousand barrels per reserve.')"
   ]
  },
  {
   "cell_type": "markdown",
   "metadata": {},
   "source": [
    "From the above calculations, a minimum of approximately **22.2** million barrels of oil are needed from the new well in order to ensure that OilyGiant is not building or operating at a loss. This breaks down to a minimum of approximately **111.11** thousand barrels from each reserve in the region. As can quickly be seen, the average predicted oil reserve volumes for the three regions, as was modeled in Section 4, are lower than the **111.11** thousand barrels per reserve. However, when you factor in the RMSE that Region 0 and Region 2 ouputted, there are definitley oil reserve volumes that exceed the **111.11** value. Unfortunately, Region 1 has less oil reserves that exceed the **111.11** volume since the average oil reserve volume is approximately **68.66** thousand barrels, and the RMSE is approximately **0.887**. However, if OilyGiant is able to extract oil from the top 200 oil wells in Region 1, then there is a much better chance of OilyGiant ending up with a profit rather than a loss at the end of the year."
   ]
  },
  {
   "cell_type": "markdown",
   "metadata": {},
   "source": [
    "### Calculate potential profit from predicted values\n",
    "\n",
    "Now, based on the predicted oil reserve volumes from each region, let's calculate the profit OilyGiant would receive. To do this, a function will be created that accepts the volume predictions, as well as the sample size of oil wells from each region, as parameters. The largest 200 oil wells from each region will be used to calculate OilyGiant's profit. So, the predictions from each region will be sorted from highest to lowest, and then the largest 200 values will be sliced from the predictions series. The 200 values will be added together for a total sum, which will then be multiplied by **4,500 USD** to get the total revenue. Lastly, to get the final profit number, OilyGiant's budget will be subtracted fromthe product of the total reserve volume and revenue from one unit. In addition to displaying the profit that OilyGiant would recieve, the target number of barrels of oil needed to be produced will be displayed, as well."
   ]
  },
  {
   "cell_type": "code",
   "execution_count": 11,
   "metadata": {},
   "outputs": [
    {
     "name": "stdout",
     "output_type": "stream",
     "text": [
      "Profit from Region 0: $33,619,361.58\n",
      "Target oil reserve volume: 29693.19 thousand barrels\n",
      "\n",
      "Profit from Region 1: $24,150,866.97\n",
      "Target oil reserve volume: 27589.08 thousand barrels\n",
      "\n",
      "Profit from Region 2: $26,377,304.42\n",
      "Target oil reserve volume: 28083.85 thousand barrels\n",
      "\n"
     ]
    }
   ],
   "source": [
    "# Create a function to calculate the profit from the predicted target values of each region\n",
    "\n",
    "# Initialize function - takes 'predictions' and 'count' as parameters\n",
    "def get_profit(targets, predictions, count):\n",
    "    '''Function will calculate the potential profit based on predicted oil reserve volumes for each region'''\n",
    "    \n",
    "    # Sort the predicted volumes from largest to smallest\n",
    "    predictions_sorted = predictions.sort_values(ascending=False)[:count]\n",
    "    \n",
    "    # Select the largest 200 oil reserve volumes for each region, but utilize the target volumes (actual volumes)\n",
    "    selected_wells = targets[predictions_sorted.index]\n",
    "    \n",
    "    # Calculate the profit based on one unit producing a revenue of $4,500\n",
    "    # Subtract the budget of $100,000,000 from the total revenue\n",
    "    profit = (4500 * selected_wells.sum()) - budget\n",
    "    \n",
    "    # Return the profit value\n",
    "    return round(profit, 2)\n",
    "\n",
    "\n",
    "# Run the function below...\n",
    "\n",
    "# Create a list of the predicted values and actual values (targets) for each region\n",
    "predictions = [pd.Series(predicted_valid_0), pd.Series(predicted_valid_1), pd.Series(predicted_valid_2)]\n",
    "targets = [target_valid_0.reset_index(drop=True) , target_valid_1.reset_index(drop=True), target_valid_2.reset_index(drop=True)]\n",
    "profits = []\n",
    "\n",
    "# For loop for executing the get_profit function for the predicted datasets of each region\n",
    "# Store profit values into the profits list\n",
    "for i in range(len(predictions)):\n",
    "    profits.append(get_profit(targets[i], predictions[i], 200))\n",
    "\n",
    "# Set local currency to USD\n",
    "locale.setlocale(locale.LC_ALL, '')\n",
    "    \n",
    "# Print each profit value\n",
    "for i in range(len(profits)):\n",
    "    print(f'Profit from Region {i}: {locale.currency(profits[i], grouping=True)}')\n",
    "    print(f'Target oil reserve volume: {round((profits[i] + 100_000_000) / 4500,2)} thousand barrels\\n')"
   ]
  },
  {
   "cell_type": "markdown",
   "metadata": {},
   "source": [
    "The ranking of each region by its approximate profits as calculated using the predicted oil reserve volumes are as follows:\n",
    "\n",
    "1.  Region 0\n",
    "2.  Region 2\n",
    "3.  Region 1\n",
    "\n",
    "From the profits calculated above, it can quickly be seen that Region 0 provided the highest profits, followed by Region 2, and then Region 1. All three regions were able to produce profits and not losses. The approximate target oil reserve volumes needed to acheive the calculated profits are as follows:\n",
    "\n",
    "- Region 0: **approx. 29 million barrels**\n",
    "- Region 2: **aprrox. 27 million barrels**\n",
    "- Region 1: **approx. 27 million barrels**\n",
    "\n",
    "The approximate target oil reserve volumes are all greater than the approximate **22.2 million barrels** that were calculated to be required for OilyGiant to break-even. That is why each region has been predicted to produce a profit for OilyGiant. While I expected Region 1 to produce a lower amount of barrels, it seems that it contains some very large oil reserves. At least 200 of them, seeing as Region 1 was able to produce a profit. While Region 1 and Region 2 were able to provide a profit for OilyGiant, Region 0 provided the highest predicted profit greater than **30 million USD**. Therefore, if only based off these predictions, OilyGiant should build their new oil well in Region 0. However, we are basing these calculations off the largest predicted reserves, which is unlikely to actually come to fruition when OilyGiant buildes their new well. Therefore, it is important to look at distributions of average profits for each region, which will be done in the next section."
   ]
  },
  {
   "cell_type": "markdown",
   "metadata": {},
   "source": [
    "### Bootstrapping to determine the most profitable region\n",
    "\n",
    "Although calculating the profits produced by the largest model predictions is a good starting point for our analysis of the most porfitable region, it doesn't tell the whole story. We sliced 200 of the largest oil reserves from each region to obtain the highest profit possible. Now, let's create a distribution of average profit values for each region. This will be done by providing **1,000** samples of **500** oil wells to the `get_profit` function. The function will then calculate the predicted profit, as was previously done, and store the profit value in the `values` list. Once the distribution has been collected, the average profit, 95% confidence interval, and risk of loss will be calculated for each region."
   ]
  },
  {
   "cell_type": "code",
   "execution_count": 12,
   "metadata": {
    "scrolled": true
   },
   "outputs": [
    {
     "name": "stdout",
     "output_type": "stream",
     "text": [
      "Region 0\n",
      "Average profit: $4,843,364.99\n",
      "Target oil reserve volume: 23298.53 thousand barrels\n",
      "95% Confidence Interval: -$470,829.47 to $9,637,909.47\n",
      "Risk of loss: 4.0%\n",
      "\n",
      "Region 1\n",
      "Average profit: $4,633,159.55\n",
      "Target oil reserve volume: 23251.81 thousand barrels\n",
      "95% Confidence Interval: $745,163.05 to $8,566,527.72\n",
      "Risk of loss: 0.8%\n",
      "\n",
      "Region 2\n",
      "Average profit: $3,865,131.45\n",
      "Target oil reserve volume: 23081.14 thousand barrels\n",
      "95% Confidence Interval: -$1,119,615.68 to $9,060,771.58\n",
      "Risk of loss: 7.1%\n",
      "\n"
     ]
    }
   ],
   "source": [
    "# Use the bootstrapping method with 1000 samples to find the distribution of profit\n",
    "# Collect a distribution of average profits for each region based on the samples\n",
    "\n",
    "def get_profit_distribution(targets, predictions, count):\n",
    "    '''Function will calculate profit for 1000 samples based on predictions and target values. Pupose\n",
    "       is to collect a average profit distribution.'''\n",
    "    \n",
    "    # Initialize the random state\n",
    "    state = np.random.RandomState(12345)\n",
    "    \n",
    "    # Initialize the values list\n",
    "    values = []\n",
    "    \n",
    "    # Create a DataFrame consisting of the predictions and targets series.\n",
    "    combined_df = pd.DataFrame()\n",
    "    combined_df['predictions'] = predictions\n",
    "    combined_df['targets'] = targets.reset_index(drop=True)\n",
    "    \n",
    "    # For loop for obtaining 1000 samples and passing them to the get_profit function\n",
    "    for i in range(1000):\n",
    "        target_subsample = combined_df.sample(n=500, replace=True, random_state=state).reset_index(drop=True)\n",
    "        values.append(get_profit(target_subsample['targets'], target_subsample['predictions'], count))\n",
    "    \n",
    "    # Turn the values list into a pandas series\n",
    "    values = pd.Series(values)\n",
    "    \n",
    "    # Calculate the mean of the profits\n",
    "    mean = values.mean()\n",
    "    \n",
    "    # Obtain the upper and lower bounds of the 95% confidence interval\n",
    "    upper = values.quantile(0.975)\n",
    "    lower = values.quantile(0.025)\n",
    "    \n",
    "    # Determine the probability of negative profit (loss)\n",
    "    count = 0\n",
    "    for value in values:\n",
    "        if value < 0:\n",
    "            count += 1\n",
    "            \n",
    "    print(\"Average profit:\", locale.currency(mean, grouping=True))\n",
    "    print(f'Target oil reserve volume: {round((mean + 100_000_000) / 4500,2)} thousand barrels')\n",
    "    print(\"95% Confidence Interval:\", locale.currency(lower, grouping=True), 'to', locale.currency(upper, grouping=True))\n",
    "    print(f\"Risk of loss: {1. * count * 100 / len(values)}%\")\n",
    "\n",
    "for i in range(len(predictions)):\n",
    "    print('Region ' + str(i))\n",
    "    get_profit_distribution(targets[i], predictions[i], 200)\n",
    "    print()"
   ]
  },
  {
   "cell_type": "markdown",
   "metadata": {},
   "source": [
    "Region 0 and Region 2 both have risk of loss percentages greater than **2.5%**, which makes them not suitable to be the next location for the new well. Only Region 1 has a risk of loss percentage that is less than **2.5%**. Based on the criteria for acceptable risk of loss, only Region 1 can be considered for the location for OilyGiant's new well.\n",
    "\n",
    "The average profit calculated for each region is much lower than what was seen when calculating the potential profit from the largest 200 oil reserves in each region. This is expected, as we are now calculating the average profit from a profit distribution of 1000 random samples. Region 1 and 2 have fairly high average profits, whereas Region 2 brings in a slighlty lower average profit. Therefore, in addition to the risk of loss criteria, it can be reported to OilyGiant that they should build their new well in Region 1 due to it having one of the larger average profits."
   ]
  },
  {
   "cell_type": "markdown",
   "metadata": {},
   "source": [
    "## Conclusion\n",
    "\n",
    "To complete this task, the datasets were broken into a training and validation dataset for each region. A model was trained for each reagion using the data provided by OilyGiant, and the predicted oil reserve volumes were utilized to calculate and predict the profit from each region. While this was a good base to begin our analysis with, we needed to obtain more samples for a more precise and accurate conclusion. The bootstrapping technique was used with 1000 samples to find the distribution of profit for each region. The average profit, 95% confidence interval, and risk of loss were calculated for the profit distributions of each region. After all the predictions and calculations were completed, it was determined that Region 1 would be the best and most suitable location for the OilyGiant Mining Company to build their new oil well."
   ]
  }
 ],
 "metadata": {
  "ExecuteTimeLog": [
   {
    "duration": 1242,
    "start_time": "2022-06-12T20:10:19.208Z"
   },
   {
    "duration": 4,
    "start_time": "2022-06-12T20:10:25.149Z"
   },
   {
    "duration": 10,
    "start_time": "2022-06-12T20:12:49.309Z"
   },
   {
    "duration": 12,
    "start_time": "2022-06-12T20:12:55.384Z"
   },
   {
    "duration": 843,
    "start_time": "2022-06-12T20:13:04.268Z"
   },
   {
    "duration": 181,
    "start_time": "2022-06-12T20:13:18.201Z"
   },
   {
    "duration": 58,
    "start_time": "2022-06-12T20:13:25.852Z"
   },
   {
    "duration": 449,
    "start_time": "2022-06-12T20:13:32.075Z"
   },
   {
    "duration": 616,
    "start_time": "2022-06-12T20:13:47.320Z"
   },
   {
    "duration": 427,
    "start_time": "2022-06-12T20:13:59.217Z"
   },
   {
    "duration": 2,
    "start_time": "2022-06-12T20:16:08.811Z"
   },
   {
    "duration": 13,
    "start_time": "2022-06-12T20:17:20.344Z"
   },
   {
    "duration": 70,
    "start_time": "2022-06-12T20:17:52.156Z"
   },
   {
    "duration": 16,
    "start_time": "2022-06-12T20:18:00.914Z"
   },
   {
    "duration": 27,
    "start_time": "2022-06-12T20:18:22.279Z"
   },
   {
    "duration": 34,
    "start_time": "2022-06-12T20:19:03.419Z"
   },
   {
    "duration": 5,
    "start_time": "2022-06-12T20:37:59.051Z"
   },
   {
    "duration": 32,
    "start_time": "2022-06-12T20:40:28.038Z"
   },
   {
    "duration": 8,
    "start_time": "2022-06-12T20:40:45.210Z"
   },
   {
    "duration": 9,
    "start_time": "2022-06-12T20:53:00.183Z"
   },
   {
    "duration": 57,
    "start_time": "2022-06-12T20:53:55.187Z"
   },
   {
    "duration": 3,
    "start_time": "2022-06-12T21:12:06.263Z"
   },
   {
    "duration": 419,
    "start_time": "2022-06-12T21:12:07.156Z"
   },
   {
    "duration": 13,
    "start_time": "2022-06-12T21:12:09.741Z"
   },
   {
    "duration": 35,
    "start_time": "2022-06-12T21:12:11.992Z"
   },
   {
    "duration": 3,
    "start_time": "2022-06-12T21:12:16.932Z"
   },
   {
    "duration": 34,
    "start_time": "2022-06-12T21:12:17.777Z"
   },
   {
    "duration": 8,
    "start_time": "2022-06-12T21:12:21.962Z"
   },
   {
    "duration": 84,
    "start_time": "2022-06-12T21:12:27.135Z"
   },
   {
    "duration": 30,
    "start_time": "2022-06-12T21:12:33.770Z"
   },
   {
    "duration": 17,
    "start_time": "2022-06-12T21:13:00.666Z"
   },
   {
    "duration": 3,
    "start_time": "2022-06-12T21:13:08.656Z"
   },
   {
    "duration": 7,
    "start_time": "2022-06-12T21:13:09.000Z"
   },
   {
    "duration": 12,
    "start_time": "2022-06-12T21:13:09.513Z"
   },
   {
    "duration": 18,
    "start_time": "2022-06-12T21:13:20.250Z"
   },
   {
    "duration": 7,
    "start_time": "2022-06-12T21:13:57.494Z"
   },
   {
    "duration": 11,
    "start_time": "2022-06-12T21:13:59.427Z"
   },
   {
    "duration": 36,
    "start_time": "2022-06-12T21:14:01.678Z"
   },
   {
    "duration": 14,
    "start_time": "2022-06-12T21:14:03.348Z"
   },
   {
    "duration": 20,
    "start_time": "2022-06-12T21:14:27.163Z"
   },
   {
    "duration": 7,
    "start_time": "2022-06-12T21:14:47.381Z"
   },
   {
    "duration": 12,
    "start_time": "2022-06-12T21:14:58.011Z"
   },
   {
    "duration": 3,
    "start_time": "2022-06-12T21:16:59.649Z"
   },
   {
    "duration": 13,
    "start_time": "2022-06-12T21:18:17.166Z"
   },
   {
    "duration": 4,
    "start_time": "2022-06-12T21:18:21.200Z"
   },
   {
    "duration": 10,
    "start_time": "2022-06-12T21:18:25.515Z"
   },
   {
    "duration": 4,
    "start_time": "2022-06-12T21:18:38.888Z"
   },
   {
    "duration": 13,
    "start_time": "2022-06-12T21:18:41.940Z"
   },
   {
    "duration": 11,
    "start_time": "2022-06-12T21:18:52.799Z"
   },
   {
    "duration": 13,
    "start_time": "2022-06-12T21:18:59.046Z"
   },
   {
    "duration": 12,
    "start_time": "2022-06-12T21:19:05.513Z"
   },
   {
    "duration": 108,
    "start_time": "2022-06-12T21:20:13.257Z"
   },
   {
    "duration": 19,
    "start_time": "2022-06-12T21:20:34.791Z"
   },
   {
    "duration": 15,
    "start_time": "2022-06-12T21:20:47.565Z"
   },
   {
    "duration": 17,
    "start_time": "2022-06-12T21:21:06.839Z"
   },
   {
    "duration": 16,
    "start_time": "2022-06-12T21:21:21.191Z"
   },
   {
    "duration": 1203,
    "start_time": "2022-06-13T21:27:21.504Z"
   },
   {
    "duration": 1129,
    "start_time": "2022-06-13T21:27:23.983Z"
   },
   {
    "duration": 33,
    "start_time": "2022-06-13T21:27:26.374Z"
   },
   {
    "duration": 58,
    "start_time": "2022-06-13T21:27:39.879Z"
   },
   {
    "duration": 19,
    "start_time": "2022-06-13T21:27:54.997Z"
   },
   {
    "duration": 55,
    "start_time": "2022-06-13T21:27:57.165Z"
   },
   {
    "duration": 20,
    "start_time": "2022-06-13T21:28:14.115Z"
   },
   {
    "duration": 37,
    "start_time": "2022-06-13T21:28:18.686Z"
   },
   {
    "duration": 36,
    "start_time": "2022-06-13T21:28:22.775Z"
   },
   {
    "duration": 22,
    "start_time": "2022-06-13T21:28:24.783Z"
   },
   {
    "duration": 27,
    "start_time": "2022-06-13T21:29:28.874Z"
   },
   {
    "duration": 30,
    "start_time": "2022-06-13T21:30:00.241Z"
   },
   {
    "duration": 75,
    "start_time": "2022-06-13T21:30:35.790Z"
   },
   {
    "duration": 49,
    "start_time": "2022-06-13T21:31:33.744Z"
   },
   {
    "duration": 50,
    "start_time": "2022-06-13T21:31:36.943Z"
   },
   {
    "duration": 28,
    "start_time": "2022-06-13T21:31:40.535Z"
   },
   {
    "duration": 5,
    "start_time": "2022-06-13T22:00:50.719Z"
   },
   {
    "duration": 5,
    "start_time": "2022-06-13T22:01:41.692Z"
   },
   {
    "duration": 4,
    "start_time": "2022-06-13T22:01:45.051Z"
   },
   {
    "duration": 4,
    "start_time": "2022-06-13T22:25:23.678Z"
   },
   {
    "duration": 4,
    "start_time": "2022-06-13T22:26:58.817Z"
   },
   {
    "duration": 130,
    "start_time": "2022-06-13T22:27:42.920Z"
   },
   {
    "duration": 30,
    "start_time": "2022-06-13T22:28:58.576Z"
   },
   {
    "duration": 16,
    "start_time": "2022-06-13T22:29:19.479Z"
   },
   {
    "duration": 15,
    "start_time": "2022-06-13T22:29:26.014Z"
   },
   {
    "duration": 9,
    "start_time": "2022-06-13T22:29:53.824Z"
   },
   {
    "duration": 10,
    "start_time": "2022-06-13T22:30:07.049Z"
   },
   {
    "duration": 9,
    "start_time": "2022-06-13T22:30:19.241Z"
   },
   {
    "duration": 10,
    "start_time": "2022-06-13T22:30:28.411Z"
   },
   {
    "duration": 1259,
    "start_time": "2022-06-13T22:42:57.656Z"
   },
   {
    "duration": 443,
    "start_time": "2022-06-13T22:43:00.026Z"
   },
   {
    "duration": 19,
    "start_time": "2022-06-13T22:43:01.805Z"
   },
   {
    "duration": 49,
    "start_time": "2022-06-13T22:43:05.081Z"
   },
   {
    "duration": 27,
    "start_time": "2022-06-13T22:43:07.119Z"
   },
   {
    "duration": 49,
    "start_time": "2022-06-13T22:43:10.978Z"
   },
   {
    "duration": 41,
    "start_time": "2022-06-13T22:43:15.049Z"
   },
   {
    "duration": 28,
    "start_time": "2022-06-13T22:43:17.104Z"
   },
   {
    "duration": 20,
    "start_time": "2022-06-13T22:43:19.589Z"
   },
   {
    "duration": 5,
    "start_time": "2022-06-13T22:44:44.981Z"
   },
   {
    "duration": 5,
    "start_time": "2022-06-13T22:45:19.812Z"
   },
   {
    "duration": 8,
    "start_time": "2022-06-13T22:45:34.076Z"
   },
   {
    "duration": 10,
    "start_time": "2022-06-13T22:45:48.751Z"
   },
   {
    "duration": 5,
    "start_time": "2022-06-13T22:46:11.790Z"
   },
   {
    "duration": 18,
    "start_time": "2022-06-13T22:47:25.876Z"
   },
   {
    "duration": 19,
    "start_time": "2022-06-13T22:47:46.142Z"
   },
   {
    "duration": 17,
    "start_time": "2022-06-13T22:48:13.485Z"
   },
   {
    "duration": 107,
    "start_time": "2022-06-13T22:49:21.440Z"
   },
   {
    "duration": 50,
    "start_time": "2022-06-13T22:49:42.130Z"
   },
   {
    "duration": 16,
    "start_time": "2022-06-13T22:49:55.232Z"
   },
   {
    "duration": 18,
    "start_time": "2022-06-13T22:50:01.827Z"
   },
   {
    "duration": 21,
    "start_time": "2022-06-13T22:52:36.902Z"
   },
   {
    "duration": 17,
    "start_time": "2022-06-13T22:54:44.448Z"
   },
   {
    "duration": 12,
    "start_time": "2022-06-13T22:59:35.078Z"
   },
   {
    "duration": 10,
    "start_time": "2022-06-13T23:02:43.093Z"
   },
   {
    "duration": 13,
    "start_time": "2022-06-13T23:04:29.577Z"
   },
   {
    "duration": 14,
    "start_time": "2022-06-13T23:04:43.879Z"
   },
   {
    "duration": 659,
    "start_time": "2022-06-13T23:05:07.286Z"
   },
   {
    "duration": 1823,
    "start_time": "2022-06-13T23:05:57.039Z"
   },
   {
    "duration": 1756,
    "start_time": "2022-06-13T23:06:06.297Z"
   },
   {
    "duration": 17,
    "start_time": "2022-06-13T23:07:19.841Z"
   },
   {
    "duration": 1667,
    "start_time": "2022-06-13T23:07:48.030Z"
   },
   {
    "duration": 1719,
    "start_time": "2022-06-13T23:11:43.702Z"
   },
   {
    "duration": 33,
    "start_time": "2022-06-13T23:18:45.743Z"
   },
   {
    "duration": 1918,
    "start_time": "2022-06-13T23:18:56.934Z"
   },
   {
    "duration": 1657,
    "start_time": "2022-06-13T23:20:37.513Z"
   },
   {
    "duration": 1094,
    "start_time": "2022-06-14T00:12:40.810Z"
   },
   {
    "duration": 498,
    "start_time": "2022-06-14T00:12:43.129Z"
   },
   {
    "duration": 16,
    "start_time": "2022-06-14T00:12:45.539Z"
   },
   {
    "duration": 108,
    "start_time": "2022-06-14T00:14:31.932Z"
   },
   {
    "duration": 15,
    "start_time": "2022-06-14T00:14:40.876Z"
   },
   {
    "duration": 10,
    "start_time": "2022-06-14T00:14:51.085Z"
   },
   {
    "duration": 15,
    "start_time": "2022-06-14T00:15:00.295Z"
   },
   {
    "duration": 21,
    "start_time": "2022-06-14T00:15:08.736Z"
   },
   {
    "duration": 48,
    "start_time": "2022-06-14T00:15:34.553Z"
   },
   {
    "duration": 13,
    "start_time": "2022-06-14T00:18:52.412Z"
   },
   {
    "duration": 26,
    "start_time": "2022-06-14T00:18:59.573Z"
   },
   {
    "duration": 7,
    "start_time": "2022-06-14T00:19:04.568Z"
   },
   {
    "duration": 14,
    "start_time": "2022-06-14T00:19:05.536Z"
   },
   {
    "duration": 10,
    "start_time": "2022-06-14T00:19:33.966Z"
   },
   {
    "duration": 13,
    "start_time": "2022-06-14T00:19:34.417Z"
   },
   {
    "duration": 11,
    "start_time": "2022-06-14T00:19:38.899Z"
   },
   {
    "duration": 17,
    "start_time": "2022-06-14T00:19:39.607Z"
   },
   {
    "duration": 18,
    "start_time": "2022-06-14T00:19:49.048Z"
   },
   {
    "duration": 16,
    "start_time": "2022-06-14T00:19:49.537Z"
   },
   {
    "duration": 46,
    "start_time": "2022-06-14T00:24:48.633Z"
   },
   {
    "duration": 24,
    "start_time": "2022-06-14T00:29:59.599Z"
   },
   {
    "duration": 25,
    "start_time": "2022-06-14T00:30:01.888Z"
   },
   {
    "duration": 16,
    "start_time": "2022-06-14T00:30:02.791Z"
   },
   {
    "duration": 23,
    "start_time": "2022-06-14T00:32:15.014Z"
   },
   {
    "duration": 4,
    "start_time": "2022-06-14T00:46:31.134Z"
   },
   {
    "duration": 4,
    "start_time": "2022-06-14T00:46:47.260Z"
   },
   {
    "duration": 5,
    "start_time": "2022-06-14T00:46:59.986Z"
   },
   {
    "duration": 5,
    "start_time": "2022-06-14T00:47:05.012Z"
   },
   {
    "duration": 18,
    "start_time": "2022-06-14T01:05:42.074Z"
   },
   {
    "duration": 5,
    "start_time": "2022-06-14T01:06:55.021Z"
   },
   {
    "duration": 18,
    "start_time": "2022-06-14T01:06:58.748Z"
   },
   {
    "duration": 4,
    "start_time": "2022-06-14T01:08:03.779Z"
   },
   {
    "duration": 27,
    "start_time": "2022-06-14T01:09:17.333Z"
   },
   {
    "duration": 37,
    "start_time": "2022-06-14T01:09:24.873Z"
   },
   {
    "duration": 20,
    "start_time": "2022-06-14T01:09:31.413Z"
   },
   {
    "duration": 22,
    "start_time": "2022-06-14T01:09:48.590Z"
   },
   {
    "duration": 34,
    "start_time": "2022-06-14T01:10:06.326Z"
   },
   {
    "duration": 17,
    "start_time": "2022-06-14T01:10:20.486Z"
   },
   {
    "duration": 22,
    "start_time": "2022-06-14T01:10:31.463Z"
   },
   {
    "duration": 16,
    "start_time": "2022-06-14T01:11:14.244Z"
   },
   {
    "duration": 16,
    "start_time": "2022-06-14T01:11:19.956Z"
   },
   {
    "duration": 4,
    "start_time": "2022-06-14T01:15:15.295Z"
   },
   {
    "duration": 9,
    "start_time": "2022-06-14T01:15:31.000Z"
   },
   {
    "duration": 26,
    "start_time": "2022-06-14T01:15:47.228Z"
   },
   {
    "duration": 20,
    "start_time": "2022-06-14T01:16:30.422Z"
   },
   {
    "duration": 5,
    "start_time": "2022-06-14T01:18:11.312Z"
   },
   {
    "duration": 5,
    "start_time": "2022-06-14T01:18:45.322Z"
   },
   {
    "duration": 20,
    "start_time": "2022-06-14T01:24:30.710Z"
   },
   {
    "duration": 19,
    "start_time": "2022-06-14T01:24:41.569Z"
   },
   {
    "duration": 38,
    "start_time": "2022-06-14T01:24:50.024Z"
   },
   {
    "duration": 20,
    "start_time": "2022-06-14T01:24:53.544Z"
   },
   {
    "duration": 20,
    "start_time": "2022-06-14T01:24:57.329Z"
   },
   {
    "duration": 17,
    "start_time": "2022-06-14T01:25:46.256Z"
   },
   {
    "duration": 1629,
    "start_time": "2022-06-14T01:33:29.644Z"
   },
   {
    "duration": 14,
    "start_time": "2022-06-14T01:35:08.889Z"
   },
   {
    "duration": 1643,
    "start_time": "2022-06-14T01:35:27.817Z"
   },
   {
    "duration": 1652,
    "start_time": "2022-06-14T01:36:53.560Z"
   },
   {
    "duration": 632,
    "start_time": "2022-06-14T01:38:22.890Z"
   },
   {
    "duration": 558,
    "start_time": "2022-06-14T01:38:32.068Z"
   },
   {
    "duration": 1627,
    "start_time": "2022-06-14T01:39:30.680Z"
   },
   {
    "duration": 1685,
    "start_time": "2022-06-14T01:40:42.045Z"
   },
   {
    "duration": 1749,
    "start_time": "2022-06-14T01:46:39.121Z"
   },
   {
    "duration": 1722,
    "start_time": "2022-06-14T01:46:46.419Z"
   },
   {
    "duration": 1648,
    "start_time": "2022-06-14T01:55:35.077Z"
   },
   {
    "duration": 1142,
    "start_time": "2022-06-14T02:20:15.112Z"
   },
   {
    "duration": 407,
    "start_time": "2022-06-14T02:20:16.256Z"
   },
   {
    "duration": 19,
    "start_time": "2022-06-14T02:20:16.665Z"
   },
   {
    "duration": 49,
    "start_time": "2022-06-14T02:20:16.685Z"
   },
   {
    "duration": 14,
    "start_time": "2022-06-14T02:20:16.758Z"
   },
   {
    "duration": 49,
    "start_time": "2022-06-14T02:20:16.774Z"
   },
   {
    "duration": 45,
    "start_time": "2022-06-14T02:20:16.825Z"
   },
   {
    "duration": 100,
    "start_time": "2022-06-14T02:20:16.872Z"
   },
   {
    "duration": 103,
    "start_time": "2022-06-14T02:20:16.974Z"
   },
   {
    "duration": 113,
    "start_time": "2022-06-14T02:20:17.159Z"
   },
   {
    "duration": 28,
    "start_time": "2022-06-14T02:20:17.275Z"
   },
   {
    "duration": 1605,
    "start_time": "2022-06-14T02:20:17.305Z"
   },
   {
    "duration": 1031,
    "start_time": "2022-06-14T02:20:37.505Z"
   },
   {
    "duration": 408,
    "start_time": "2022-06-14T02:20:38.538Z"
   },
   {
    "duration": 18,
    "start_time": "2022-06-14T02:20:38.948Z"
   },
   {
    "duration": 51,
    "start_time": "2022-06-14T02:20:38.968Z"
   },
   {
    "duration": 41,
    "start_time": "2022-06-14T02:20:39.022Z"
   },
   {
    "duration": 43,
    "start_time": "2022-06-14T02:20:39.066Z"
   },
   {
    "duration": 148,
    "start_time": "2022-06-14T02:20:39.111Z"
   },
   {
    "duration": 28,
    "start_time": "2022-06-14T02:20:39.261Z"
   },
   {
    "duration": 127,
    "start_time": "2022-06-14T02:20:39.360Z"
   },
   {
    "duration": 69,
    "start_time": "2022-06-14T02:20:39.489Z"
   },
   {
    "duration": 105,
    "start_time": "2022-06-14T02:20:39.561Z"
   },
   {
    "duration": 1728,
    "start_time": "2022-06-14T02:20:39.668Z"
   },
   {
    "duration": 1106,
    "start_time": "2022-06-14T02:21:25.412Z"
   },
   {
    "duration": 407,
    "start_time": "2022-06-14T02:21:26.521Z"
   },
   {
    "duration": 19,
    "start_time": "2022-06-14T02:21:26.930Z"
   },
   {
    "duration": 42,
    "start_time": "2022-06-14T02:21:26.960Z"
   },
   {
    "duration": 15,
    "start_time": "2022-06-14T02:21:27.005Z"
   },
   {
    "duration": 100,
    "start_time": "2022-06-14T02:21:27.022Z"
   },
   {
    "duration": 49,
    "start_time": "2022-06-14T02:21:27.125Z"
   },
   {
    "duration": 203,
    "start_time": "2022-06-14T02:21:27.177Z"
   },
   {
    "duration": 181,
    "start_time": "2022-06-14T02:21:27.381Z"
   },
   {
    "duration": 99,
    "start_time": "2022-06-14T02:21:27.564Z"
   },
   {
    "duration": 101,
    "start_time": "2022-06-14T02:21:27.669Z"
   },
   {
    "duration": 1670,
    "start_time": "2022-06-14T02:21:27.772Z"
   },
   {
    "duration": 31,
    "start_time": "2022-06-14T02:22:32.875Z"
   },
   {
    "duration": 1075,
    "start_time": "2022-06-14T02:23:04.849Z"
   },
   {
    "duration": 410,
    "start_time": "2022-06-14T02:23:05.926Z"
   },
   {
    "duration": 22,
    "start_time": "2022-06-14T02:23:06.338Z"
   },
   {
    "duration": 49,
    "start_time": "2022-06-14T02:23:06.363Z"
   },
   {
    "duration": 14,
    "start_time": "2022-06-14T02:23:06.415Z"
   },
   {
    "duration": 81,
    "start_time": "2022-06-14T02:23:06.431Z"
   },
   {
    "duration": 56,
    "start_time": "2022-06-14T02:23:06.514Z"
   },
   {
    "duration": 104,
    "start_time": "2022-06-14T02:23:06.572Z"
   },
   {
    "duration": 187,
    "start_time": "2022-06-14T02:23:06.678Z"
   },
   {
    "duration": 7,
    "start_time": "2022-06-14T02:23:06.869Z"
   },
   {
    "duration": 117,
    "start_time": "2022-06-14T02:23:06.958Z"
   },
   {
    "duration": 1641,
    "start_time": "2022-06-14T02:23:07.077Z"
   },
   {
    "duration": 1079,
    "start_time": "2022-06-14T02:24:34.190Z"
   },
   {
    "duration": 408,
    "start_time": "2022-06-14T02:24:35.272Z"
   },
   {
    "duration": 25,
    "start_time": "2022-06-14T02:24:35.682Z"
   },
   {
    "duration": 71,
    "start_time": "2022-06-14T02:24:35.709Z"
   },
   {
    "duration": 14,
    "start_time": "2022-06-14T02:24:35.782Z"
   },
   {
    "duration": 61,
    "start_time": "2022-06-14T02:24:35.798Z"
   },
   {
    "duration": 104,
    "start_time": "2022-06-14T02:24:35.861Z"
   },
   {
    "duration": 193,
    "start_time": "2022-06-14T02:24:35.967Z"
   },
   {
    "duration": 120,
    "start_time": "2022-06-14T02:24:36.163Z"
   },
   {
    "duration": 101,
    "start_time": "2022-06-14T02:24:36.360Z"
   },
   {
    "duration": 29,
    "start_time": "2022-06-14T02:24:36.463Z"
   },
   {
    "duration": 1719,
    "start_time": "2022-06-14T02:24:36.494Z"
   },
   {
    "duration": 44,
    "start_time": "2022-06-15T01:13:28.502Z"
   },
   {
    "duration": 928,
    "start_time": "2022-06-15T01:18:50.395Z"
   },
   {
    "duration": 1465,
    "start_time": "2022-06-15T01:18:51.325Z"
   },
   {
    "duration": 14,
    "start_time": "2022-06-15T01:18:52.791Z"
   },
   {
    "duration": 31,
    "start_time": "2022-06-15T01:18:52.806Z"
   },
   {
    "duration": 10,
    "start_time": "2022-06-15T01:18:52.839Z"
   },
   {
    "duration": 43,
    "start_time": "2022-06-15T01:18:52.850Z"
   },
   {
    "duration": 15,
    "start_time": "2022-06-15T01:18:52.895Z"
   },
   {
    "duration": 170,
    "start_time": "2022-06-15T01:18:52.911Z"
   },
   {
    "duration": 196,
    "start_time": "2022-06-15T01:18:53.083Z"
   },
   {
    "duration": 9,
    "start_time": "2022-06-15T01:18:53.281Z"
   },
   {
    "duration": 105,
    "start_time": "2022-06-15T01:18:53.378Z"
   },
   {
    "duration": 0,
    "start_time": "2022-06-15T01:18:53.485Z"
   },
   {
    "duration": 10,
    "start_time": "2022-06-15T01:19:17.829Z"
   },
   {
    "duration": 4,
    "start_time": "2022-06-15T01:19:29.131Z"
   },
   {
    "duration": 5,
    "start_time": "2022-06-15T01:19:46.171Z"
   },
   {
    "duration": 9,
    "start_time": "2022-06-15T01:20:26.691Z"
   },
   {
    "duration": 19,
    "start_time": "2022-06-15T01:21:53.543Z"
   },
   {
    "duration": 7,
    "start_time": "2022-06-15T01:21:58.291Z"
   },
   {
    "duration": 22,
    "start_time": "2022-06-15T01:22:33.246Z"
   },
   {
    "duration": 17,
    "start_time": "2022-06-15T01:23:00.825Z"
   },
   {
    "duration": 5,
    "start_time": "2022-06-15T01:23:35.646Z"
   },
   {
    "duration": 10,
    "start_time": "2022-06-15T01:23:47.647Z"
   },
   {
    "duration": 4,
    "start_time": "2022-06-15T01:24:15.154Z"
   },
   {
    "duration": 6,
    "start_time": "2022-06-15T01:24:34.265Z"
   },
   {
    "duration": 21,
    "start_time": "2022-06-15T01:25:00.753Z"
   },
   {
    "duration": 23,
    "start_time": "2022-06-15T01:25:23.011Z"
   },
   {
    "duration": 20,
    "start_time": "2022-06-15T01:25:41.501Z"
   },
   {
    "duration": 5,
    "start_time": "2022-06-15T01:26:33.145Z"
   },
   {
    "duration": 12,
    "start_time": "2022-06-15T01:26:45.804Z"
   },
   {
    "duration": 24,
    "start_time": "2022-06-15T01:28:15.146Z"
   },
   {
    "duration": 5,
    "start_time": "2022-06-15T01:28:24.397Z"
   },
   {
    "duration": 5,
    "start_time": "2022-06-15T01:28:40.587Z"
   },
   {
    "duration": 4,
    "start_time": "2022-06-15T01:28:45.902Z"
   },
   {
    "duration": 458,
    "start_time": "2022-06-15T01:29:37.108Z"
   },
   {
    "duration": 432,
    "start_time": "2022-06-15T01:29:46.669Z"
   },
   {
    "duration": 4,
    "start_time": "2022-06-15T01:30:06.676Z"
   },
   {
    "duration": 4,
    "start_time": "2022-06-15T01:31:38.443Z"
   },
   {
    "duration": 5,
    "start_time": "2022-06-15T01:32:21.231Z"
   },
   {
    "duration": 11,
    "start_time": "2022-06-15T01:33:14.921Z"
   },
   {
    "duration": 18,
    "start_time": "2022-06-15T01:33:20.297Z"
   },
   {
    "duration": 18,
    "start_time": "2022-06-15T01:33:28.721Z"
   },
   {
    "duration": 25,
    "start_time": "2022-06-15T01:33:56.846Z"
   },
   {
    "duration": 7,
    "start_time": "2022-06-15T01:35:26.944Z"
   },
   {
    "duration": 19,
    "start_time": "2022-06-15T01:36:22.344Z"
   },
   {
    "duration": 17,
    "start_time": "2022-06-15T01:36:33.983Z"
   },
   {
    "duration": 5,
    "start_time": "2022-06-15T01:36:56.195Z"
   },
   {
    "duration": 8,
    "start_time": "2022-06-15T01:37:34.187Z"
   },
   {
    "duration": 27,
    "start_time": "2022-06-15T01:37:40.918Z"
   },
   {
    "duration": 5,
    "start_time": "2022-06-15T01:38:15.998Z"
   },
   {
    "duration": 5,
    "start_time": "2022-06-15T01:39:51.004Z"
   },
   {
    "duration": 8,
    "start_time": "2022-06-15T01:39:57.840Z"
   },
   {
    "duration": 418,
    "start_time": "2022-06-15T01:40:43.791Z"
   },
   {
    "duration": 457,
    "start_time": "2022-06-15T01:40:51.561Z"
   },
   {
    "duration": 5,
    "start_time": "2022-06-15T01:41:40.000Z"
   },
   {
    "duration": 4,
    "start_time": "2022-06-15T01:41:59.020Z"
   },
   {
    "duration": 8,
    "start_time": "2022-06-15T01:42:03.816Z"
   },
   {
    "duration": 4,
    "start_time": "2022-06-15T01:42:53.355Z"
   },
   {
    "duration": 6,
    "start_time": "2022-06-15T01:43:10.279Z"
   },
   {
    "duration": 4,
    "start_time": "2022-06-15T01:44:33.003Z"
   },
   {
    "duration": 5,
    "start_time": "2022-06-15T01:45:24.546Z"
   },
   {
    "duration": 20,
    "start_time": "2022-06-15T01:45:44.575Z"
   },
   {
    "duration": 19,
    "start_time": "2022-06-15T01:45:55.064Z"
   },
   {
    "duration": 18,
    "start_time": "2022-06-15T01:45:59.197Z"
   },
   {
    "duration": 932,
    "start_time": "2022-06-15T01:46:38.054Z"
   },
   {
    "duration": 316,
    "start_time": "2022-06-15T01:46:38.988Z"
   },
   {
    "duration": 12,
    "start_time": "2022-06-15T01:46:39.305Z"
   },
   {
    "duration": 30,
    "start_time": "2022-06-15T01:46:39.319Z"
   },
   {
    "duration": 9,
    "start_time": "2022-06-15T01:46:39.351Z"
   },
   {
    "duration": 48,
    "start_time": "2022-06-15T01:46:39.362Z"
   },
   {
    "duration": 14,
    "start_time": "2022-06-15T01:46:39.412Z"
   },
   {
    "duration": 154,
    "start_time": "2022-06-15T01:46:39.428Z"
   },
   {
    "duration": 107,
    "start_time": "2022-06-15T01:46:39.584Z"
   },
   {
    "duration": 4,
    "start_time": "2022-06-15T01:46:39.693Z"
   },
   {
    "duration": 186,
    "start_time": "2022-06-15T01:46:39.698Z"
   },
   {
    "duration": 106,
    "start_time": "2022-06-15T01:46:39.886Z"
   },
   {
    "duration": 19,
    "start_time": "2022-06-15T01:48:59.428Z"
   },
   {
    "duration": 2469,
    "start_time": "2022-06-15T01:49:01.904Z"
   },
   {
    "duration": 2444,
    "start_time": "2022-06-15T01:49:23.898Z"
   },
   {
    "duration": 2576,
    "start_time": "2022-06-15T01:49:41.457Z"
   },
   {
    "duration": 2580,
    "start_time": "2022-06-15T01:49:46.854Z"
   },
   {
    "duration": 2598,
    "start_time": "2022-06-15T01:51:35.368Z"
   },
   {
    "duration": 2381,
    "start_time": "2022-06-15T01:56:28.745Z"
   },
   {
    "duration": 31,
    "start_time": "2022-06-15T02:16:13.960Z"
   },
   {
    "duration": 9,
    "start_time": "2022-06-15T02:16:50.893Z"
   },
   {
    "duration": 6,
    "start_time": "2022-06-15T02:17:08.671Z"
   },
   {
    "duration": 5,
    "start_time": "2022-06-15T02:17:17.458Z"
   },
   {
    "duration": 4,
    "start_time": "2022-06-15T02:18:12.145Z"
   },
   {
    "duration": 53,
    "start_time": "2022-06-15T02:19:07.790Z"
   },
   {
    "duration": 11,
    "start_time": "2022-06-15T02:19:29.185Z"
   },
   {
    "duration": 22,
    "start_time": "2022-06-15T02:19:44.778Z"
   },
   {
    "duration": 9,
    "start_time": "2022-06-15T20:48:30.636Z"
   },
   {
    "duration": 4,
    "start_time": "2022-06-15T20:48:35.259Z"
   },
   {
    "duration": 360,
    "start_time": "2022-06-15T20:48:35.265Z"
   },
   {
    "duration": 19,
    "start_time": "2022-06-15T20:48:35.626Z"
   },
   {
    "duration": 35,
    "start_time": "2022-06-15T20:48:35.646Z"
   },
   {
    "duration": 15,
    "start_time": "2022-06-15T20:48:35.683Z"
   },
   {
    "duration": 37,
    "start_time": "2022-06-15T20:48:35.700Z"
   },
   {
    "duration": 58,
    "start_time": "2022-06-15T20:48:35.738Z"
   },
   {
    "duration": 102,
    "start_time": "2022-06-15T20:48:35.797Z"
   },
   {
    "duration": 197,
    "start_time": "2022-06-15T20:48:35.900Z"
   },
   {
    "duration": 101,
    "start_time": "2022-06-15T20:48:36.102Z"
   },
   {
    "duration": 101,
    "start_time": "2022-06-15T20:48:36.205Z"
   },
   {
    "duration": 9,
    "start_time": "2022-06-15T20:48:36.307Z"
   },
   {
    "duration": 0,
    "start_time": "2022-06-15T20:48:36.317Z"
   },
   {
    "duration": 651,
    "start_time": "2022-06-15T20:48:47.848Z"
   },
   {
    "duration": 820,
    "start_time": "2022-06-15T20:49:07.063Z"
   },
   {
    "duration": 4,
    "start_time": "2022-06-15T20:49:19.999Z"
   },
   {
    "duration": 5,
    "start_time": "2022-06-15T20:49:28.088Z"
   },
   {
    "duration": 7,
    "start_time": "2022-06-15T20:49:42.373Z"
   },
   {
    "duration": 11,
    "start_time": "2022-06-15T20:50:15.177Z"
   },
   {
    "duration": 16,
    "start_time": "2022-06-15T20:51:32.286Z"
   },
   {
    "duration": 11,
    "start_time": "2022-06-15T20:51:38.792Z"
   },
   {
    "duration": 12,
    "start_time": "2022-06-15T20:52:01.452Z"
   },
   {
    "duration": 5,
    "start_time": "2022-06-15T20:52:41.893Z"
   },
   {
    "duration": 11,
    "start_time": "2022-06-15T20:52:45.643Z"
   },
   {
    "duration": 13,
    "start_time": "2022-06-15T20:52:57.473Z"
   },
   {
    "duration": 12,
    "start_time": "2022-06-15T20:53:44.142Z"
   },
   {
    "duration": 5,
    "start_time": "2022-06-15T20:54:24.975Z"
   },
   {
    "duration": 7,
    "start_time": "2022-06-15T20:54:36.404Z"
   },
   {
    "duration": 4,
    "start_time": "2022-06-15T20:54:48.119Z"
   },
   {
    "duration": 11,
    "start_time": "2022-06-15T20:59:07.788Z"
   },
   {
    "duration": 5,
    "start_time": "2022-06-15T20:59:39.651Z"
   },
   {
    "duration": 41,
    "start_time": "2022-06-15T21:02:23.785Z"
   },
   {
    "duration": 18,
    "start_time": "2022-06-15T21:04:21.421Z"
   },
   {
    "duration": 27,
    "start_time": "2022-06-15T21:04:27.015Z"
   },
   {
    "duration": 42,
    "start_time": "2022-06-15T21:05:31.770Z"
   },
   {
    "duration": 6679,
    "start_time": "2022-06-15T21:05:55.374Z"
   },
   {
    "duration": 7301,
    "start_time": "2022-06-15T21:06:21.493Z"
   },
   {
    "duration": 20,
    "start_time": "2022-06-15T21:07:33.572Z"
   },
   {
    "duration": 6956,
    "start_time": "2022-06-15T21:07:46.990Z"
   },
   {
    "duration": 28,
    "start_time": "2022-06-15T21:08:01.511Z"
   },
   {
    "duration": 30,
    "start_time": "2022-06-15T21:08:07.341Z"
   },
   {
    "duration": 927,
    "start_time": "2022-06-15T21:10:14.135Z"
   },
   {
    "duration": 332,
    "start_time": "2022-06-15T21:10:15.064Z"
   },
   {
    "duration": 16,
    "start_time": "2022-06-15T21:10:15.397Z"
   },
   {
    "duration": 37,
    "start_time": "2022-06-15T21:10:15.415Z"
   },
   {
    "duration": 11,
    "start_time": "2022-06-15T21:10:15.454Z"
   },
   {
    "duration": 57,
    "start_time": "2022-06-15T21:10:15.466Z"
   },
   {
    "duration": 70,
    "start_time": "2022-06-15T21:10:15.525Z"
   },
   {
    "duration": 102,
    "start_time": "2022-06-15T21:10:15.599Z"
   },
   {
    "duration": 208,
    "start_time": "2022-06-15T21:10:15.703Z"
   },
   {
    "duration": 84,
    "start_time": "2022-06-15T21:10:15.913Z"
   },
   {
    "duration": 123,
    "start_time": "2022-06-15T21:10:16.004Z"
   },
   {
    "duration": 9,
    "start_time": "2022-06-15T21:10:16.129Z"
   },
   {
    "duration": 7,
    "start_time": "2022-06-15T21:10:16.140Z"
   },
   {
    "duration": 7,
    "start_time": "2022-06-15T21:10:16.149Z"
   },
   {
    "duration": 14,
    "start_time": "2022-06-15T21:10:16.157Z"
   },
   {
    "duration": 4,
    "start_time": "2022-06-15T21:10:16.173Z"
   },
   {
    "duration": 20,
    "start_time": "2022-06-15T21:10:16.179Z"
   },
   {
    "duration": 112,
    "start_time": "2022-06-15T21:10:16.201Z"
   },
   {
    "duration": 25,
    "start_time": "2022-06-15T21:10:59.676Z"
   },
   {
    "duration": 916,
    "start_time": "2022-06-15T21:13:28.585Z"
   },
   {
    "duration": 325,
    "start_time": "2022-06-15T21:13:29.504Z"
   },
   {
    "duration": 13,
    "start_time": "2022-06-15T21:13:29.831Z"
   },
   {
    "duration": 29,
    "start_time": "2022-06-15T21:13:29.846Z"
   },
   {
    "duration": 22,
    "start_time": "2022-06-15T21:13:29.877Z"
   },
   {
    "duration": 42,
    "start_time": "2022-06-15T21:13:29.900Z"
   },
   {
    "duration": 51,
    "start_time": "2022-06-15T21:13:29.944Z"
   },
   {
    "duration": 100,
    "start_time": "2022-06-15T21:13:29.999Z"
   },
   {
    "duration": 197,
    "start_time": "2022-06-15T21:13:30.100Z"
   },
   {
    "duration": 106,
    "start_time": "2022-06-15T21:13:30.299Z"
   },
   {
    "duration": 101,
    "start_time": "2022-06-15T21:13:30.407Z"
   },
   {
    "duration": 20,
    "start_time": "2022-06-15T21:13:30.510Z"
   },
   {
    "duration": 14,
    "start_time": "2022-06-15T21:13:30.532Z"
   },
   {
    "duration": 23,
    "start_time": "2022-06-15T21:13:30.548Z"
   },
   {
    "duration": 19,
    "start_time": "2022-06-15T21:13:30.573Z"
   },
   {
    "duration": 12,
    "start_time": "2022-06-15T21:13:30.594Z"
   },
   {
    "duration": 19,
    "start_time": "2022-06-15T21:13:30.607Z"
   },
   {
    "duration": 108,
    "start_time": "2022-06-15T21:13:30.627Z"
   },
   {
    "duration": 876,
    "start_time": "2022-06-15T21:14:29.358Z"
   },
   {
    "duration": 328,
    "start_time": "2022-06-15T21:14:30.236Z"
   },
   {
    "duration": 13,
    "start_time": "2022-06-15T21:14:30.566Z"
   },
   {
    "duration": 38,
    "start_time": "2022-06-15T21:14:30.580Z"
   },
   {
    "duration": 10,
    "start_time": "2022-06-15T21:14:30.620Z"
   },
   {
    "duration": 45,
    "start_time": "2022-06-15T21:14:30.632Z"
   },
   {
    "duration": 26,
    "start_time": "2022-06-15T21:14:30.679Z"
   },
   {
    "duration": 190,
    "start_time": "2022-06-15T21:14:30.707Z"
   },
   {
    "duration": 206,
    "start_time": "2022-06-15T21:14:30.899Z"
   },
   {
    "duration": 90,
    "start_time": "2022-06-15T21:14:31.107Z"
   },
   {
    "duration": 117,
    "start_time": "2022-06-15T21:14:31.199Z"
   },
   {
    "duration": 9,
    "start_time": "2022-06-15T21:14:31.318Z"
   },
   {
    "duration": 8,
    "start_time": "2022-06-15T21:14:31.328Z"
   },
   {
    "duration": 10,
    "start_time": "2022-06-15T21:14:31.338Z"
   },
   {
    "duration": 21,
    "start_time": "2022-06-15T21:14:31.349Z"
   },
   {
    "duration": 4,
    "start_time": "2022-06-15T21:14:31.372Z"
   },
   {
    "duration": 18,
    "start_time": "2022-06-15T21:14:31.377Z"
   },
   {
    "duration": 106,
    "start_time": "2022-06-15T21:14:31.397Z"
   },
   {
    "duration": 11,
    "start_time": "2022-06-15T21:16:12.786Z"
   },
   {
    "duration": 2357,
    "start_time": "2022-06-15T21:16:25.714Z"
   },
   {
    "duration": 2174,
    "start_time": "2022-06-15T21:16:49.704Z"
   },
   {
    "duration": 2321,
    "start_time": "2022-06-15T21:17:35.104Z"
   },
   {
    "duration": 18,
    "start_time": "2022-06-15T21:19:27.915Z"
   },
   {
    "duration": 2236,
    "start_time": "2022-06-15T21:19:48.139Z"
   },
   {
    "duration": 2789,
    "start_time": "2022-06-15T21:21:34.100Z"
   },
   {
    "duration": 870,
    "start_time": "2022-06-15T21:23:19.051Z"
   },
   {
    "duration": 322,
    "start_time": "2022-06-15T21:23:19.922Z"
   },
   {
    "duration": 13,
    "start_time": "2022-06-15T21:23:20.246Z"
   },
   {
    "duration": 39,
    "start_time": "2022-06-15T21:23:20.260Z"
   },
   {
    "duration": 10,
    "start_time": "2022-06-15T21:23:20.301Z"
   },
   {
    "duration": 38,
    "start_time": "2022-06-15T21:23:20.312Z"
   },
   {
    "duration": 45,
    "start_time": "2022-06-15T21:23:20.352Z"
   },
   {
    "duration": 102,
    "start_time": "2022-06-15T21:23:20.399Z"
   },
   {
    "duration": 104,
    "start_time": "2022-06-15T21:23:20.502Z"
   },
   {
    "duration": 89,
    "start_time": "2022-06-15T21:23:20.608Z"
   },
   {
    "duration": 111,
    "start_time": "2022-06-15T21:23:20.699Z"
   },
   {
    "duration": 11,
    "start_time": "2022-06-15T21:23:20.811Z"
   },
   {
    "duration": 8,
    "start_time": "2022-06-15T21:23:20.824Z"
   },
   {
    "duration": 11,
    "start_time": "2022-06-15T21:23:20.833Z"
   },
   {
    "duration": 21,
    "start_time": "2022-06-15T21:23:20.846Z"
   },
   {
    "duration": 4,
    "start_time": "2022-06-15T21:23:20.869Z"
   },
   {
    "duration": 29,
    "start_time": "2022-06-15T21:23:20.875Z"
   },
   {
    "duration": 2932,
    "start_time": "2022-06-15T21:23:20.905Z"
   },
   {
    "duration": 82,
    "start_time": "2022-06-15T21:25:12.596Z"
   },
   {
    "duration": 10,
    "start_time": "2022-06-15T21:25:27.779Z"
   },
   {
    "duration": 9,
    "start_time": "2022-06-15T21:25:52.186Z"
   },
   {
    "duration": 12,
    "start_time": "2022-06-15T21:26:23.223Z"
   },
   {
    "duration": 6,
    "start_time": "2022-06-15T21:26:44.132Z"
   },
   {
    "duration": 5,
    "start_time": "2022-06-15T21:27:44.102Z"
   },
   {
    "duration": 9,
    "start_time": "2022-06-15T21:27:55.313Z"
   },
   {
    "duration": 6,
    "start_time": "2022-06-15T21:28:01.430Z"
   },
   {
    "duration": 534,
    "start_time": "2022-06-15T21:28:29.151Z"
   },
   {
    "duration": 5,
    "start_time": "2022-06-15T21:28:38.337Z"
   },
   {
    "duration": 28,
    "start_time": "2022-06-15T21:29:12.192Z"
   },
   {
    "duration": 20,
    "start_time": "2022-06-15T21:29:16.865Z"
   },
   {
    "duration": 17,
    "start_time": "2022-06-15T21:29:22.642Z"
   },
   {
    "duration": 2567,
    "start_time": "2022-06-15T21:29:32.978Z"
   },
   {
    "duration": 539,
    "start_time": "2022-06-15T21:30:23.952Z"
   },
   {
    "duration": 496,
    "start_time": "2022-06-15T21:30:37.391Z"
   },
   {
    "duration": 5,
    "start_time": "2022-06-15T21:30:47.045Z"
   },
   {
    "duration": 5,
    "start_time": "2022-06-15T21:31:06.440Z"
   },
   {
    "duration": 6,
    "start_time": "2022-06-15T21:31:48.348Z"
   },
   {
    "duration": 6,
    "start_time": "2022-06-15T21:31:49.104Z"
   },
   {
    "duration": 6,
    "start_time": "2022-06-15T21:32:36.875Z"
   },
   {
    "duration": 5,
    "start_time": "2022-06-15T21:32:44.737Z"
   },
   {
    "duration": 8,
    "start_time": "2022-06-15T21:32:50.818Z"
   },
   {
    "duration": 6,
    "start_time": "2022-06-15T21:33:19.236Z"
   },
   {
    "duration": 5,
    "start_time": "2022-06-15T21:33:49.167Z"
   },
   {
    "duration": 6,
    "start_time": "2022-06-15T21:33:53.383Z"
   },
   {
    "duration": 6,
    "start_time": "2022-06-15T21:34:19.255Z"
   },
   {
    "duration": 5,
    "start_time": "2022-06-15T21:34:24.400Z"
   },
   {
    "duration": 6,
    "start_time": "2022-06-15T21:34:25.754Z"
   },
   {
    "duration": 6,
    "start_time": "2022-06-15T21:34:44.472Z"
   },
   {
    "duration": 4,
    "start_time": "2022-06-15T21:34:57.047Z"
   },
   {
    "duration": 6,
    "start_time": "2022-06-15T21:35:02.965Z"
   },
   {
    "duration": 4,
    "start_time": "2022-06-15T21:35:38.142Z"
   },
   {
    "duration": 6,
    "start_time": "2022-06-15T21:35:55.233Z"
   },
   {
    "duration": 4,
    "start_time": "2022-06-15T21:36:08.056Z"
   },
   {
    "duration": 5,
    "start_time": "2022-06-15T21:36:26.565Z"
   },
   {
    "duration": 4,
    "start_time": "2022-06-15T21:36:35.720Z"
   },
   {
    "duration": 5,
    "start_time": "2022-06-15T21:37:34.014Z"
   },
   {
    "duration": 4,
    "start_time": "2022-06-15T21:37:42.869Z"
   },
   {
    "duration": 3,
    "start_time": "2022-06-15T21:38:10.585Z"
   },
   {
    "duration": 6,
    "start_time": "2022-06-15T21:39:13.459Z"
   },
   {
    "duration": 10,
    "start_time": "2022-06-15T21:39:30.444Z"
   },
   {
    "duration": 10,
    "start_time": "2022-06-15T21:39:35.815Z"
   },
   {
    "duration": 6,
    "start_time": "2022-06-15T21:39:41.792Z"
   },
   {
    "duration": 6,
    "start_time": "2022-06-15T21:41:30.090Z"
   },
   {
    "duration": 6,
    "start_time": "2022-06-15T21:41:40.081Z"
   },
   {
    "duration": 5,
    "start_time": "2022-06-15T21:43:19.600Z"
   },
   {
    "duration": 5,
    "start_time": "2022-06-15T21:45:12.799Z"
   },
   {
    "duration": 6,
    "start_time": "2022-06-15T21:45:31.968Z"
   },
   {
    "duration": 5,
    "start_time": "2022-06-15T21:46:14.581Z"
   },
   {
    "duration": 6,
    "start_time": "2022-06-15T21:46:18.011Z"
   },
   {
    "duration": 5,
    "start_time": "2022-06-15T21:46:30.495Z"
   },
   {
    "duration": 6,
    "start_time": "2022-06-15T21:46:36.577Z"
   },
   {
    "duration": 5,
    "start_time": "2022-06-15T21:47:31.281Z"
   },
   {
    "duration": 5,
    "start_time": "2022-06-15T21:48:26.678Z"
   },
   {
    "duration": 5,
    "start_time": "2022-06-15T21:48:36.563Z"
   },
   {
    "duration": 2675,
    "start_time": "2022-06-15T21:49:05.911Z"
   },
   {
    "duration": 18,
    "start_time": "2022-06-15T21:49:13.886Z"
   },
   {
    "duration": 6,
    "start_time": "2022-06-15T21:51:33.213Z"
   },
   {
    "duration": 16,
    "start_time": "2022-06-15T21:51:43.846Z"
   },
   {
    "duration": 2489,
    "start_time": "2022-06-15T21:52:56.636Z"
   },
   {
    "duration": 2466,
    "start_time": "2022-06-15T21:53:12.687Z"
   },
   {
    "duration": 880,
    "start_time": "2022-06-15T21:53:32.422Z"
   },
   {
    "duration": 317,
    "start_time": "2022-06-15T21:53:33.304Z"
   },
   {
    "duration": 13,
    "start_time": "2022-06-15T21:53:33.622Z"
   },
   {
    "duration": 30,
    "start_time": "2022-06-15T21:53:33.636Z"
   },
   {
    "duration": 27,
    "start_time": "2022-06-15T21:53:33.668Z"
   },
   {
    "duration": 38,
    "start_time": "2022-06-15T21:53:33.696Z"
   },
   {
    "duration": 16,
    "start_time": "2022-06-15T21:53:33.736Z"
   },
   {
    "duration": 143,
    "start_time": "2022-06-15T21:53:33.754Z"
   },
   {
    "duration": 105,
    "start_time": "2022-06-15T21:53:33.899Z"
   },
   {
    "duration": 92,
    "start_time": "2022-06-15T21:53:34.006Z"
   },
   {
    "duration": 114,
    "start_time": "2022-06-15T21:53:34.099Z"
   },
   {
    "duration": 2435,
    "start_time": "2022-06-15T21:53:34.214Z"
   },
   {
    "duration": 2539,
    "start_time": "2022-06-15T21:54:54.556Z"
   },
   {
    "duration": 2556,
    "start_time": "2022-06-15T21:55:02.520Z"
   },
   {
    "duration": 8695,
    "start_time": "2022-06-15T21:55:30.621Z"
   },
   {
    "duration": 23,
    "start_time": "2022-06-15T21:56:24.284Z"
   },
   {
    "duration": 14477,
    "start_time": "2022-06-15T21:56:36.833Z"
   },
   {
    "duration": 897,
    "start_time": "2022-06-15T21:57:59.308Z"
   },
   {
    "duration": 339,
    "start_time": "2022-06-15T21:58:00.207Z"
   },
   {
    "duration": 13,
    "start_time": "2022-06-15T21:58:00.547Z"
   },
   {
    "duration": 44,
    "start_time": "2022-06-15T21:58:00.562Z"
   },
   {
    "duration": 11,
    "start_time": "2022-06-15T21:58:00.609Z"
   },
   {
    "duration": 39,
    "start_time": "2022-06-15T21:58:00.622Z"
   },
   {
    "duration": 37,
    "start_time": "2022-06-15T21:58:00.663Z"
   },
   {
    "duration": 101,
    "start_time": "2022-06-15T21:58:00.701Z"
   },
   {
    "duration": 116,
    "start_time": "2022-06-15T21:58:00.894Z"
   },
   {
    "duration": 4,
    "start_time": "2022-06-15T21:58:01.011Z"
   },
   {
    "duration": 195,
    "start_time": "2022-06-15T21:58:01.016Z"
   },
   {
    "duration": 2485,
    "start_time": "2022-06-15T21:58:01.212Z"
   },
   {
    "duration": 840,
    "start_time": "2022-06-15T21:58:34.650Z"
   },
   {
    "duration": 337,
    "start_time": "2022-06-15T21:58:35.492Z"
   },
   {
    "duration": 15,
    "start_time": "2022-06-15T21:58:35.831Z"
   },
   {
    "duration": 47,
    "start_time": "2022-06-15T21:58:35.847Z"
   },
   {
    "duration": 12,
    "start_time": "2022-06-15T21:58:35.896Z"
   },
   {
    "duration": 37,
    "start_time": "2022-06-15T21:58:35.909Z"
   },
   {
    "duration": 48,
    "start_time": "2022-06-15T21:58:35.948Z"
   },
   {
    "duration": 103,
    "start_time": "2022-06-15T21:58:35.998Z"
   },
   {
    "duration": 100,
    "start_time": "2022-06-15T21:58:36.103Z"
   },
   {
    "duration": 8,
    "start_time": "2022-06-15T21:58:36.295Z"
   },
   {
    "duration": 19,
    "start_time": "2022-06-15T21:58:36.395Z"
   },
   {
    "duration": 2526,
    "start_time": "2022-06-15T21:58:36.416Z"
   },
   {
    "duration": 2395,
    "start_time": "2022-06-15T22:01:03.177Z"
   },
   {
    "duration": 44,
    "start_time": "2022-06-15T22:02:32.065Z"
   },
   {
    "duration": 915,
    "start_time": "2022-06-15T22:02:39.570Z"
   },
   {
    "duration": 314,
    "start_time": "2022-06-15T22:02:40.486Z"
   },
   {
    "duration": 14,
    "start_time": "2022-06-15T22:02:40.801Z"
   },
   {
    "duration": 45,
    "start_time": "2022-06-15T22:02:40.816Z"
   },
   {
    "duration": 11,
    "start_time": "2022-06-15T22:02:40.863Z"
   },
   {
    "duration": 40,
    "start_time": "2022-06-15T22:02:40.875Z"
   },
   {
    "duration": 78,
    "start_time": "2022-06-15T22:02:40.917Z"
   },
   {
    "duration": 104,
    "start_time": "2022-06-15T22:02:40.997Z"
   },
   {
    "duration": 207,
    "start_time": "2022-06-15T22:02:41.102Z"
   },
   {
    "duration": 5,
    "start_time": "2022-06-15T22:02:41.311Z"
   },
   {
    "duration": 111,
    "start_time": "2022-06-15T22:02:41.399Z"
   },
   {
    "duration": 14856,
    "start_time": "2022-06-15T22:02:41.511Z"
   },
   {
    "duration": 909,
    "start_time": "2022-06-15T22:04:40.787Z"
   },
   {
    "duration": 317,
    "start_time": "2022-06-15T22:04:41.697Z"
   },
   {
    "duration": 15,
    "start_time": "2022-06-15T22:04:42.016Z"
   },
   {
    "duration": 34,
    "start_time": "2022-06-15T22:04:42.032Z"
   },
   {
    "duration": 27,
    "start_time": "2022-06-15T22:04:42.068Z"
   },
   {
    "duration": 44,
    "start_time": "2022-06-15T22:04:42.097Z"
   },
   {
    "duration": 55,
    "start_time": "2022-06-15T22:04:42.142Z"
   },
   {
    "duration": 109,
    "start_time": "2022-06-15T22:04:42.198Z"
   },
   {
    "duration": 186,
    "start_time": "2022-06-15T22:04:42.309Z"
   },
   {
    "duration": 4,
    "start_time": "2022-06-15T22:04:42.497Z"
   },
   {
    "duration": 105,
    "start_time": "2022-06-15T22:04:42.502Z"
   },
   {
    "duration": 2460,
    "start_time": "2022-06-15T22:04:42.609Z"
   },
   {
    "duration": 927,
    "start_time": "2022-06-15T22:11:04.165Z"
   },
   {
    "duration": 324,
    "start_time": "2022-06-15T22:11:05.094Z"
   },
   {
    "duration": 13,
    "start_time": "2022-06-15T22:11:05.419Z"
   },
   {
    "duration": 31,
    "start_time": "2022-06-15T22:11:05.434Z"
   },
   {
    "duration": 10,
    "start_time": "2022-06-15T22:11:05.467Z"
   },
   {
    "duration": 46,
    "start_time": "2022-06-15T22:11:05.479Z"
   },
   {
    "duration": 17,
    "start_time": "2022-06-15T22:11:05.527Z"
   },
   {
    "duration": 105,
    "start_time": "2022-06-15T22:11:05.598Z"
   },
   {
    "duration": 192,
    "start_time": "2022-06-15T22:11:05.705Z"
   },
   {
    "duration": 97,
    "start_time": "2022-06-15T22:11:05.899Z"
   },
   {
    "duration": 100,
    "start_time": "2022-06-15T22:11:05.998Z"
   },
   {
    "duration": 2459,
    "start_time": "2022-06-15T22:11:06.099Z"
   },
   {
    "duration": 866,
    "start_time": "2022-06-15T22:12:14.038Z"
   },
   {
    "duration": 322,
    "start_time": "2022-06-15T22:12:14.906Z"
   },
   {
    "duration": 13,
    "start_time": "2022-06-15T22:12:15.230Z"
   },
   {
    "duration": 31,
    "start_time": "2022-06-15T22:12:15.244Z"
   },
   {
    "duration": 21,
    "start_time": "2022-06-15T22:12:15.276Z"
   },
   {
    "duration": 35,
    "start_time": "2022-06-15T22:12:15.299Z"
   },
   {
    "duration": 64,
    "start_time": "2022-06-15T22:12:15.336Z"
   },
   {
    "duration": 106,
    "start_time": "2022-06-15T22:12:15.402Z"
   },
   {
    "duration": 93,
    "start_time": "2022-06-15T22:12:15.510Z"
   },
   {
    "duration": 8,
    "start_time": "2022-06-15T22:12:15.695Z"
   },
   {
    "duration": 17,
    "start_time": "2022-06-15T22:12:15.794Z"
   },
   {
    "duration": 2462,
    "start_time": "2022-06-15T22:12:15.813Z"
   },
   {
    "duration": 880,
    "start_time": "2022-06-15T22:17:39.514Z"
   },
   {
    "duration": 311,
    "start_time": "2022-06-15T22:17:40.396Z"
   },
   {
    "duration": 13,
    "start_time": "2022-06-15T22:17:40.709Z"
   },
   {
    "duration": 30,
    "start_time": "2022-06-15T22:17:40.724Z"
   },
   {
    "duration": 10,
    "start_time": "2022-06-15T22:17:40.756Z"
   },
   {
    "duration": 51,
    "start_time": "2022-06-15T22:17:40.767Z"
   },
   {
    "duration": 78,
    "start_time": "2022-06-15T22:17:40.819Z"
   },
   {
    "duration": 103,
    "start_time": "2022-06-15T22:17:40.898Z"
   },
   {
    "duration": 194,
    "start_time": "2022-06-15T22:17:41.003Z"
   },
   {
    "duration": 95,
    "start_time": "2022-06-15T22:17:41.199Z"
   },
   {
    "duration": 16,
    "start_time": "2022-06-15T22:17:41.296Z"
   },
   {
    "duration": 2365,
    "start_time": "2022-06-15T22:17:41.314Z"
   },
   {
    "duration": 863,
    "start_time": "2022-06-15T22:18:27.628Z"
   },
   {
    "duration": 322,
    "start_time": "2022-06-15T22:18:28.494Z"
   },
   {
    "duration": 15,
    "start_time": "2022-06-15T22:18:30.030Z"
   },
   {
    "duration": 32,
    "start_time": "2022-06-15T22:18:33.824Z"
   },
   {
    "duration": 12,
    "start_time": "2022-06-15T22:18:36.483Z"
   },
   {
    "duration": 39,
    "start_time": "2022-06-15T22:18:38.426Z"
   },
   {
    "duration": 17,
    "start_time": "2022-06-15T22:18:40.617Z"
   },
   {
    "duration": 14,
    "start_time": "2022-06-15T22:18:42.605Z"
   },
   {
    "duration": 16,
    "start_time": "2022-06-15T22:18:46.135Z"
   },
   {
    "duration": 16,
    "start_time": "2022-06-15T22:18:47.189Z"
   },
   {
    "duration": 16,
    "start_time": "2022-06-15T22:18:48.860Z"
   },
   {
    "duration": 14,
    "start_time": "2022-06-15T22:18:50.602Z"
   },
   {
    "duration": 15,
    "start_time": "2022-06-15T22:18:56.495Z"
   },
   {
    "duration": 3,
    "start_time": "2022-06-15T22:19:20.078Z"
   },
   {
    "duration": 18,
    "start_time": "2022-06-15T22:19:26.555Z"
   },
   {
    "duration": 860,
    "start_time": "2022-06-15T22:21:19.830Z"
   },
   {
    "duration": 325,
    "start_time": "2022-06-15T22:21:20.692Z"
   },
   {
    "duration": 14,
    "start_time": "2022-06-15T22:21:21.018Z"
   },
   {
    "duration": 29,
    "start_time": "2022-06-15T22:21:21.034Z"
   },
   {
    "duration": 11,
    "start_time": "2022-06-15T22:21:21.065Z"
   },
   {
    "duration": 50,
    "start_time": "2022-06-15T22:21:21.077Z"
   },
   {
    "duration": 69,
    "start_time": "2022-06-15T22:21:21.128Z"
   },
   {
    "duration": 100,
    "start_time": "2022-06-15T22:21:21.198Z"
   },
   {
    "duration": 201,
    "start_time": "2022-06-15T22:21:21.300Z"
   },
   {
    "duration": 94,
    "start_time": "2022-06-15T22:21:21.503Z"
   },
   {
    "duration": 107,
    "start_time": "2022-06-15T22:21:21.599Z"
   },
   {
    "duration": 2785,
    "start_time": "2022-06-15T22:21:21.708Z"
   },
   {
    "duration": 886,
    "start_time": "2022-06-15T22:24:06.423Z"
   },
   {
    "duration": 329,
    "start_time": "2022-06-15T22:24:07.312Z"
   },
   {
    "duration": 15,
    "start_time": "2022-06-15T22:24:07.643Z"
   },
   {
    "duration": 42,
    "start_time": "2022-06-15T22:24:07.660Z"
   },
   {
    "duration": 11,
    "start_time": "2022-06-15T22:24:07.704Z"
   },
   {
    "duration": 36,
    "start_time": "2022-06-15T22:24:07.717Z"
   },
   {
    "duration": 44,
    "start_time": "2022-06-15T22:24:07.754Z"
   },
   {
    "duration": 104,
    "start_time": "2022-06-15T22:24:07.799Z"
   },
   {
    "duration": 193,
    "start_time": "2022-06-15T22:24:07.905Z"
   },
   {
    "duration": 95,
    "start_time": "2022-06-15T22:24:08.100Z"
   },
   {
    "duration": 106,
    "start_time": "2022-06-15T22:24:08.197Z"
   },
   {
    "duration": 2510,
    "start_time": "2022-06-15T22:24:08.305Z"
   },
   {
    "duration": 923,
    "start_time": "2022-06-15T22:25:38.979Z"
   },
   {
    "duration": 320,
    "start_time": "2022-06-15T22:25:39.904Z"
   },
   {
    "duration": 14,
    "start_time": "2022-06-15T22:25:40.226Z"
   },
   {
    "duration": 29,
    "start_time": "2022-06-15T22:25:40.242Z"
   },
   {
    "duration": 22,
    "start_time": "2022-06-15T22:25:40.273Z"
   },
   {
    "duration": 35,
    "start_time": "2022-06-15T22:25:40.296Z"
   },
   {
    "duration": 16,
    "start_time": "2022-06-15T22:25:40.332Z"
   },
   {
    "duration": 104,
    "start_time": "2022-06-15T22:25:40.393Z"
   },
   {
    "duration": 105,
    "start_time": "2022-06-15T22:25:40.498Z"
   },
   {
    "duration": 91,
    "start_time": "2022-06-15T22:25:40.605Z"
   },
   {
    "duration": 116,
    "start_time": "2022-06-15T22:25:40.698Z"
   },
   {
    "duration": 14952,
    "start_time": "2022-06-15T22:25:40.815Z"
   },
   {
    "duration": 921,
    "start_time": "2022-06-15T22:28:58.874Z"
   },
   {
    "duration": 322,
    "start_time": "2022-06-15T22:28:59.797Z"
   },
   {
    "duration": 14,
    "start_time": "2022-06-15T22:29:00.121Z"
   },
   {
    "duration": 38,
    "start_time": "2022-06-15T22:29:00.137Z"
   },
   {
    "duration": 19,
    "start_time": "2022-06-15T22:29:00.176Z"
   },
   {
    "duration": 43,
    "start_time": "2022-06-15T22:29:00.197Z"
   },
   {
    "duration": 60,
    "start_time": "2022-06-15T22:29:00.242Z"
   },
   {
    "duration": 103,
    "start_time": "2022-06-15T22:29:00.303Z"
   },
   {
    "duration": 199,
    "start_time": "2022-06-15T22:29:00.411Z"
   },
   {
    "duration": 81,
    "start_time": "2022-06-15T22:29:00.613Z"
   },
   {
    "duration": 107,
    "start_time": "2022-06-15T22:29:00.700Z"
   },
   {
    "duration": 2453,
    "start_time": "2022-06-15T22:29:00.809Z"
   },
   {
    "duration": 919,
    "start_time": "2022-06-15T22:29:25.071Z"
   },
   {
    "duration": 321,
    "start_time": "2022-06-15T22:29:25.992Z"
   },
   {
    "duration": 13,
    "start_time": "2022-06-15T22:29:26.314Z"
   },
   {
    "duration": 30,
    "start_time": "2022-06-15T22:29:26.328Z"
   },
   {
    "duration": 10,
    "start_time": "2022-06-15T22:29:26.360Z"
   },
   {
    "duration": 34,
    "start_time": "2022-06-15T22:29:26.394Z"
   },
   {
    "duration": 15,
    "start_time": "2022-06-15T22:29:26.429Z"
   },
   {
    "duration": 151,
    "start_time": "2022-06-15T22:29:26.446Z"
   },
   {
    "duration": 196,
    "start_time": "2022-06-15T22:29:26.599Z"
   },
   {
    "duration": 4,
    "start_time": "2022-06-15T22:29:26.797Z"
   },
   {
    "duration": 110,
    "start_time": "2022-06-15T22:29:26.802Z"
   },
   {
    "duration": 2486,
    "start_time": "2022-06-15T22:29:26.914Z"
   },
   {
    "duration": 924,
    "start_time": "2022-06-15T22:30:37.054Z"
   },
   {
    "duration": 326,
    "start_time": "2022-06-15T22:30:37.980Z"
   },
   {
    "duration": 13,
    "start_time": "2022-06-15T22:30:38.308Z"
   },
   {
    "duration": 29,
    "start_time": "2022-06-15T22:30:38.323Z"
   },
   {
    "duration": 11,
    "start_time": "2022-06-15T22:30:38.354Z"
   },
   {
    "duration": 56,
    "start_time": "2022-06-15T22:30:38.366Z"
   },
   {
    "duration": 72,
    "start_time": "2022-06-15T22:30:38.424Z"
   },
   {
    "duration": 104,
    "start_time": "2022-06-15T22:30:38.498Z"
   },
   {
    "duration": 96,
    "start_time": "2022-06-15T22:30:38.604Z"
   },
   {
    "duration": 101,
    "start_time": "2022-06-15T22:30:38.702Z"
   },
   {
    "duration": 17,
    "start_time": "2022-06-15T22:30:38.895Z"
   },
   {
    "duration": 2417,
    "start_time": "2022-06-15T22:30:38.914Z"
   }
  ],
  "kernelspec": {
   "display_name": "Python 3 (ipykernel)",
   "language": "python",
   "name": "python3"
  },
  "language_info": {
   "codemirror_mode": {
    "name": "ipython",
    "version": 3
   },
   "file_extension": ".py",
   "mimetype": "text/x-python",
   "name": "python",
   "nbconvert_exporter": "python",
   "pygments_lexer": "ipython3",
   "version": "3.9.5"
  },
  "toc": {
   "base_numbering": 1,
   "nav_menu": {},
   "number_sections": true,
   "sideBar": true,
   "skip_h1_title": true,
   "title_cell": "Table of Contents",
   "title_sidebar": "Contents",
   "toc_cell": false,
   "toc_position": {},
   "toc_section_display": true,
   "toc_window_display": false
  }
 },
 "nbformat": 4,
 "nbformat_minor": 2
}
